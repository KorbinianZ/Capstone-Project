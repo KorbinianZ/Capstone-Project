{
  "cells": [
    {
      "cell_type": "markdown",
      "source": [
        "# Automated ML\n",
        "\n",
        "TODO: Import Dependencies. In the cell below, import all the dependencies that you will need to complete the project."
      ],
      "metadata": {}
    },
    {
      "cell_type": "code",
      "source": [
        "import logging\n",
        "import os\n",
        "import csv\n",
        "\n",
        "\n",
        "import numpy as np\n",
        "import pandas as pd\n",
        "from sklearn import datasets\n",
        "import pkg_resources\n",
        "\n",
        "import azureml.core\n",
        "from azureml.core.experiment import Experiment\n",
        "from azureml.core.workspace import Workspace\n",
        "from azureml.train.automl import AutoMLConfig\n",
        "from azureml.core.dataset import Dataset\n",
        "\n",
        "from azureml.core.compute import AmlCompute\n",
        "from azureml.core.compute import ComputeTarget\n",
        "from azureml.core.compute_target import ComputeTargetException\n",
        "\n",
        "from azureml.pipeline.steps import AutoMLStep\n",
        "\n",
        "from azureml.widgets import RunDetails\n",
        "\n",
        "# Check core SDK version number\n",
        "print(\"SDK version:\", azureml.core.VERSION)"
      ],
      "outputs": [
        {
          "output_type": "stream",
          "name": "stdout",
          "text": "SDK version: 1.52.0\n"
        }
      ],
      "execution_count": 2,
      "metadata": {
        "gather": {
          "logged": 1691568201644
        },
        "jupyter": {
          "outputs_hidden": false,
          "source_hidden": false
        },
        "nteract": {
          "transient": {
            "deleting": false
          }
        }
      }
    },
    {
      "cell_type": "markdown",
      "source": [
        "**Compute cluster**\n"
      ],
      "metadata": {
        "nteract": {
          "transient": {
            "deleting": false
          }
        }
      }
    },
    {
      "cell_type": "code",
      "source": [
        "ws = Workspace.from_config()\n",
        "\n",
        "# choose a name for experiment\n",
        "experiment_name = 'project3'\n",
        "project_folder = './automl-project3'\n",
        "\n",
        "experiment=Experiment(ws, experiment_name)\n",
        "\n",
        "amlcompute_cluster_name = \"udacity\"\n",
        "\n",
        "# Verify that cluster does not exist already\n",
        "try:\n",
        "    compute_target = ComputeTarget(workspace=ws, name=amlcompute_cluster_name)\n",
        "    print('Found existing cluster, use it.')\n",
        "except ComputeTargetException:\n",
        "    compute_config = AmlCompute.provisioning_configuration(vm_size='STANDARD_D2_V2',# for GPU, use \"STANDARD_NC6\"\n",
        "                                                           #vm_priority = 'lowpriority', # optional\n",
        "                                                           min_node_count = 1,\n",
        "                                                           max_nodes=6)\n",
        "    compute_target = ComputeTarget.create(ws, amlcompute_cluster_name, compute_config)\n",
        "\n",
        "run = experiment.start_logging()"
      ],
      "outputs": [
        {
          "output_type": "stream",
          "name": "stdout",
          "text": "Found existing cluster, use it.\n"
        }
      ],
      "execution_count": 25,
      "metadata": {
        "jupyter": {
          "source_hidden": false,
          "outputs_hidden": false
        },
        "nteract": {
          "transient": {
            "deleting": false
          }
        },
        "gather": {
          "logged": 1691575276317
        }
      }
    },
    {
      "cell_type": "markdown",
      "source": [
        "## Dataset\n",
        "\n",
        "### Overview\n",
        "The dataset is from kaggle and includes the C02 emissions of cars. The emission of CO2 differs e.g. with the number of cylinders, the engine size or the number of gears in the gearbox.\n",
        "\n",
        "https://www.kaggle.com/code/bhuviranga/linear-regression-co2-emissions/input\n"
      ],
      "metadata": {}
    },
    {
      "cell_type": "markdown",
      "source": [
        "Get the data from blobbstorage"
      ],
      "metadata": {
        "nteract": {
          "transient": {
            "deleting": false
          }
        }
      }
    },
    {
      "cell_type": "code",
      "source": [
        "# azureml-core of version 1.0.72 or higher is required\n",
        "# azureml-dataprep[pandas] of version 1.1.34 or higher is required\n",
        "\n",
        "subscription_id = '7c03dd83-6b95-43b1-9f53-23dfd07e8803'\n",
        "resource_group = 'AZP-102-Temp_AI-RG'\n",
        "workspace_name = 'AZP-102_Temp_AI_ML_POC'\n",
        "\n",
        "workspace = Workspace(subscription_id, resource_group, workspace_name)\n",
        "\n",
        "dataset = Dataset.get_by_name(workspace, name='udacityProject3')\n",
        "df = dataset.to_pandas_dataframe()"
      ],
      "outputs": [],
      "execution_count": 26,
      "metadata": {
        "jupyter": {
          "source_hidden": false,
          "outputs_hidden": false
        },
        "nteract": {
          "transient": {
            "deleting": false
          }
        },
        "gather": {
          "logged": 1691575278304
        }
      }
    },
    {
      "cell_type": "code",
      "source": [
        "cleanedDataset = dataset.drop_columns(['Make', 'Model', 'Vehicle Class', 'Fuel Type', 'Fuel Consumption Comb (L/100 km)','Fuel Consumption Comb (mpg)', 'Transmission'])"
      ],
      "outputs": [],
      "execution_count": 58,
      "metadata": {
        "jupyter": {
          "source_hidden": false,
          "outputs_hidden": false
        },
        "nteract": {
          "transient": {
            "deleting": false
          }
        },
        "gather": {
          "logged": 1691758167469
        }
      }
    },
    {
      "cell_type": "code",
      "source": [
        "dfCleaned = cleanedDataset.to_pandas_dataframe()\n",
        "dfCleaned"
      ],
      "outputs": [
        {
          "output_type": "execute_result",
          "execution_count": 59,
          "data": {
            "text/plain": "      Engine Size(L)  Cylinders  Fuel Consumption City (L/100 km)  \\\n0               2.00          4                              9.90   \n1               2.40          4                             11.20   \n2               1.50          4                              6.00   \n3               3.50          6                             12.70   \n4               3.50          6                             12.10   \n...              ...        ...                               ...   \n7380            2.00          4                             10.70   \n7381            2.00          4                             11.20   \n7382            2.00          4                             11.70   \n7383            2.00          4                             11.20   \n7384            2.00          4                             12.20   \n\n      Fuel Consumption Hwy (L/100 km)  CO2 Emissions(g/km)  \n0                                6.70                  196  \n1                                7.70                  221  \n2                                5.80                  136  \n3                                9.10                  255  \n4                                8.70                  244  \n...                               ...                  ...  \n7380                             7.70                  219  \n7381                             8.30                  232  \n7382                             8.60                  240  \n7383                             8.30                  232  \n7384                             8.70                  248  \n\n[7385 rows x 5 columns]",
            "text/html": "<div>\n<style scoped>\n    .dataframe tbody tr th:only-of-type {\n        vertical-align: middle;\n    }\n\n    .dataframe tbody tr th {\n        vertical-align: top;\n    }\n\n    .dataframe thead th {\n        text-align: right;\n    }\n</style>\n<table border=\"1\" class=\"dataframe\">\n  <thead>\n    <tr style=\"text-align: right;\">\n      <th></th>\n      <th>Engine Size(L)</th>\n      <th>Cylinders</th>\n      <th>Fuel Consumption City (L/100 km)</th>\n      <th>Fuel Consumption Hwy (L/100 km)</th>\n      <th>CO2 Emissions(g/km)</th>\n    </tr>\n  </thead>\n  <tbody>\n    <tr>\n      <th>0</th>\n      <td>2.00</td>\n      <td>4</td>\n      <td>9.90</td>\n      <td>6.70</td>\n      <td>196</td>\n    </tr>\n    <tr>\n      <th>1</th>\n      <td>2.40</td>\n      <td>4</td>\n      <td>11.20</td>\n      <td>7.70</td>\n      <td>221</td>\n    </tr>\n    <tr>\n      <th>2</th>\n      <td>1.50</td>\n      <td>4</td>\n      <td>6.00</td>\n      <td>5.80</td>\n      <td>136</td>\n    </tr>\n    <tr>\n      <th>3</th>\n      <td>3.50</td>\n      <td>6</td>\n      <td>12.70</td>\n      <td>9.10</td>\n      <td>255</td>\n    </tr>\n    <tr>\n      <th>4</th>\n      <td>3.50</td>\n      <td>6</td>\n      <td>12.10</td>\n      <td>8.70</td>\n      <td>244</td>\n    </tr>\n    <tr>\n      <th>...</th>\n      <td>...</td>\n      <td>...</td>\n      <td>...</td>\n      <td>...</td>\n      <td>...</td>\n    </tr>\n    <tr>\n      <th>7380</th>\n      <td>2.00</td>\n      <td>4</td>\n      <td>10.70</td>\n      <td>7.70</td>\n      <td>219</td>\n    </tr>\n    <tr>\n      <th>7381</th>\n      <td>2.00</td>\n      <td>4</td>\n      <td>11.20</td>\n      <td>8.30</td>\n      <td>232</td>\n    </tr>\n    <tr>\n      <th>7382</th>\n      <td>2.00</td>\n      <td>4</td>\n      <td>11.70</td>\n      <td>8.60</td>\n      <td>240</td>\n    </tr>\n    <tr>\n      <th>7383</th>\n      <td>2.00</td>\n      <td>4</td>\n      <td>11.20</td>\n      <td>8.30</td>\n      <td>232</td>\n    </tr>\n    <tr>\n      <th>7384</th>\n      <td>2.00</td>\n      <td>4</td>\n      <td>12.20</td>\n      <td>8.70</td>\n      <td>248</td>\n    </tr>\n  </tbody>\n</table>\n<p>7385 rows × 5 columns</p>\n</div>"
          },
          "metadata": {}
        }
      ],
      "execution_count": 59,
      "metadata": {
        "jupyter": {
          "source_hidden": false,
          "outputs_hidden": false
        },
        "nteract": {
          "transient": {
            "deleting": false
          }
        },
        "gather": {
          "logged": 1691758168604
        }
      }
    },
    {
      "cell_type": "markdown",
      "source": [
        "## AutoML Configuration\n",
        "\n",
        "TODO: Explain why you chose the automl settings and cofiguration you used below."
      ],
      "metadata": {}
    },
    {
      "cell_type": "code",
      "source": [
        "automl_settings = {    \"experiment_timeout_minutes\": 25,\n",
        "                        \"max_concurrent_iterations\": 5,\n",
        "                        \"primary_metric\" : 'r2_score', \n",
        "                        \"additional_metrics\":['mean_absolute_error', 'root_mean_squared_error']\n",
        "                    }\n",
        "\n",
        "\n",
        "automl_config = AutoMLConfig(compute_target=compute_target,\n",
        "                             task = \"regression\",\n",
        "                             training_data=dataset,\n",
        "                             label_column_name=\"CO2 Emissions(g/km)\",   \n",
        "                             path = project_folder,\n",
        "                             enable_early_stopping= True,\n",
        "                             featurization= 'auto',\n",
        "                             debug_log = \"automl_errors.log\",\n",
        "                             enable_voting_ensemble=False,\n",
        "                             enable_stack_ensemble=False,\n",
        "                             **automl_settings\n",
        "                            )"
      ],
      "outputs": [],
      "execution_count": 29,
      "metadata": {
        "gather": {
          "logged": 1691575287636
        },
        "jupyter": {
          "outputs_hidden": false,
          "source_hidden": false
        },
        "nteract": {
          "transient": {
            "deleting": false
          }
        }
      }
    },
    {
      "cell_type": "code",
      "source": [
        "# TODO: Submit your experiment\n",
        "automl_run = experiment.submit(automl_config) \n",
        "automl_run.wait_for_completion(show_output=True)"
      ],
      "outputs": [
        {
          "output_type": "stream",
          "name": "stderr",
          "text": "WARNING:root:Received unrecognized parameter additional_metrics\n"
        },
        {
          "output_type": "stream",
          "name": "stdout",
          "text": "Submitting remote run.\n"
        },
        {
          "output_type": "display_data",
          "data": {
            "text/html": "<table style=\"width:100%\"><tr><th>Experiment</th><th>Id</th><th>Type</th><th>Status</th><th>Details Page</th><th>Docs Page</th></tr><tr><td>project3</td><td>AutoML_61370fab-2ee2-4b00-861a-b5d16fb17840</td><td>automl</td><td>NotStarted</td><td><a href=\"https://ml.azure.com/runs/AutoML_61370fab-2ee2-4b00-861a-b5d16fb17840?wsid=/subscriptions/7c03dd83-6b95-43b1-9f53-23dfd07e8803/resourcegroups/azp-102-temp_ai-rg/workspaces/AZP-102_Temp_AI_ML_POC&amp;tid=eb70b763-b6d7-4486-8555-8831709a784e\" target=\"_blank\" rel=\"noopener\">Link to Azure Machine Learning studio</a></td><td><a href=\"https://docs.microsoft.com/en-us/python/api/overview/azure/ml/intro?view=azure-ml-py\" target=\"_blank\" rel=\"noopener\">Link to Documentation</a></td></tr></table>"
          },
          "metadata": {}
        },
        {
          "output_type": "display_data",
          "data": {
            "text/html": "<table style=\"width:100%\"><tr><th>Experiment</th><th>Id</th><th>Type</th><th>Status</th><th>Details Page</th><th>Docs Page</th></tr><tr><td>project3</td><td>AutoML_61370fab-2ee2-4b00-861a-b5d16fb17840</td><td>automl</td><td>NotStarted</td><td><a href=\"https://ml.azure.com/runs/AutoML_61370fab-2ee2-4b00-861a-b5d16fb17840?wsid=/subscriptions/7c03dd83-6b95-43b1-9f53-23dfd07e8803/resourcegroups/azp-102-temp_ai-rg/workspaces/AZP-102_Temp_AI_ML_POC&amp;tid=eb70b763-b6d7-4486-8555-8831709a784e\" target=\"_blank\" rel=\"noopener\">Link to Azure Machine Learning studio</a></td><td><a href=\"https://docs.microsoft.com/en-us/python/api/overview/azure/ml/intro?view=azure-ml-py\" target=\"_blank\" rel=\"noopener\">Link to Documentation</a></td></tr></table>"
          },
          "metadata": {}
        },
        {
          "output_type": "stream",
          "name": "stdout",
          "text": "\nCurrent status: FeaturesGeneration. Generating features for the dataset.\nCurrent status: DatasetFeaturization. Beginning to fit featurizers and featurize the dataset.\nCurrent status: DatasetCrossValidationSplit. Generating individually featurized CV splits.\nCurrent status: ModelSelection. Beginning model selection.\n\n********************************************************************************************\nDATA GUARDRAILS: \n\nTYPE:         Cross validation\nSTATUS:       DONE\nDESCRIPTION:  In order to accurately evaluate the model(s) trained by AutoML, we leverage a dataset that the model is not trained on. Hence, if the user doesn't provide an explicit validation dataset, a part of the training dataset is used to achieve this. For smaller datasets (fewer than 20,000 samples), cross-validation is leveraged, else a single hold-out set is split from the training data to serve as the validation dataset. Hence, for your input data we leverage cross-validation with 10 folds, if the number of training samples are fewer than 1000, and 3 folds in all other cases.\n              Learn more about cross validation: https://aka.ms/AutomatedMLCrossValidation\nDETAILS:      \n+------------------------------+\n|Number of folds               |\n+==============================+\n|3                             |\n+------------------------------+\n\n********************************************************************************************\n\nTYPE:         Missing feature values imputation\nSTATUS:       PASSED\nDESCRIPTION:  No feature missing values were detected in the training data.\n              Learn more about missing value imputation: https://aka.ms/AutomatedMLFeaturization\n\n********************************************************************************************\n\nTYPE:         High cardinality feature detection\nSTATUS:       PASSED\nDESCRIPTION:  Your inputs were analyzed, and no high cardinality features were detected.\n              Learn more about high cardinality feature handling: https://aka.ms/AutomatedMLFeaturization\n\n********************************************************************************************\n\n********************************************************************************************\nITER: The iteration being evaluated.\nPIPELINE: A summary description of the pipeline being evaluated.\nDURATION: Time taken for the current iteration.\nMETRIC: The result of computing score on the fitted pipeline.\nBEST: The best observed score thus far.\n********************************************************************************************\n\n ITER   PIPELINE                                       DURATION            METRIC      BEST\n    0   MaxAbsScaler LightGBM                          0:00:13             0.9965    0.9965\n    1   MaxAbsScaler XGBoostRegressor                  0:00:13             0.9967    0.9967\n    2   StandardScalerWrapper XGBoostRegressor         0:00:13            -1.0000    0.9967\n    3   MaxAbsScaler ElasticNet                        0:01:07             0.9933    0.9967\n    4   MaxAbsScaler LightGBM                          0:00:13             0.9874    0.9967\n    5   SparseNormalizer XGBoostRegressor              0:00:13             0.9941    0.9967\n    6   MaxAbsScaler RandomForest                      0:00:11             0.5434    0.9967\n    7   MaxAbsScaler RandomForest                      0:00:12             0.8959    0.9967\n   12   SparseNormalizer XGBoostRegressor              0:00:54             0.9954    0.9967\n    8   StandardScalerWrapper ExtremeRandomTrees       0:00:28             0.9053    0.9967\n   13   MaxAbsScaler RandomForest                      0:00:27             0.8970    0.9967\n    9   SparseNormalizer XGBoostRegressor              0:00:16             0.9962    0.9967\n   10   MaxAbsScaler ExtremeRandomTrees                0:00:15             0.9760    0.9967\n   14   StandardScalerWrapper XGBoostRegressor         0:00:14             0.9967    0.9967\n   15   StandardScalerWrapper ElasticNet               0:00:18             0.9126    0.9967\n   16   MaxAbsScaler RandomForest                      0:00:17             0.8675    0.9967\n   11   MaxAbsScaler ElasticNet                        0:01:21             0.9935    0.9967\n   17   StandardScalerWrapper ElasticNet               0:00:26             0.9925    0.9967\n   18   StandardScalerWrapper XGBoostRegressor         0:00:12             0.9960    0.9967\n   19   StandardScalerWrapper ExtremeRandomTrees       0:00:11             0.9120    0.9967\n   22   SparseNormalizer ExtremeRandomTrees            0:00:34             0.9706    0.9967\n   20   StandardScalerWrapper ElasticNet               0:00:42             0.9406    0.9967\n   23   StandardScalerWrapper LightGBM                 0:00:30             0.9722    0.9967\n   21   MaxAbsScaler DecisionTree                      0:01:07             0.9383    0.9967\n   24   StandardScalerWrapper XGBoostRegressor         0:00:30            -0.0165    0.9967\n   25   StandardScalerWrapper ExtremeRandomTrees       0:00:44             0.9864    0.9967\n   26   SparseNormalizer XGBoostRegressor              0:00:29            -1.0000    0.9967\n   27   SparseNormalizer XGBoostRegressor              0:00:39             0.9958    0.9967\n   29   StandardScalerWrapper DecisionTree             0:00:27             0.9899    0.9967\n   30   SparseNormalizer XGBoostRegressor              0:00:31             0.9956    0.9967\n   31   MaxAbsScaler GradientBoosting                  0:00:31             0.7303    0.9967\n   32   MaxAbsScaler DecisionTree                      0:00:30             0.9421    0.9967\n   28   MaxAbsScaler RandomForest                      0:01:55             0.9821    0.9967\n   33   StandardScalerWrapper ElasticNet               0:00:35             0.9809    0.9967\n   34   StandardScalerWrapper XGBoostRegressor         0:00:26            -0.5301    0.9967\n   35                                                  0:00:08                nan    0.9967\n   36                                                  0:00:08                nan    0.9967\n   37                                                  0:00:01                nan    0.9967\n"
        },
        {
          "output_type": "stream",
          "name": "stderr",
          "text": "WARNING:root:Received unrecognized parameter additional_metrics\n"
        },
        {
          "output_type": "execute_result",
          "execution_count": 31,
          "data": {
            "text/plain": "{'runId': 'AutoML_61370fab-2ee2-4b00-861a-b5d16fb17840',\n 'target': 'udacity',\n 'status': 'Completed',\n 'startTimeUtc': '2023-08-09T10:03:32.121357Z',\n 'endTimeUtc': '2023-08-09T10:21:08.181329Z',\n 'services': {},\n 'warnings': [{'source': 'JasmineService',\n   'message': 'No scores improved over last 10 iterations, so experiment stopped early. This early stopping behavior can be disabled by setting enable_early_stopping = False in AutoMLConfig for notebook/python SDK runs.'}],\n 'properties': {'num_iterations': '1000',\n  'training_type': 'TrainFull',\n  'acquisition_function': 'EI',\n  'primary_metric': 'r2_score',\n  'train_split': '0',\n  'acquisition_parameter': '0',\n  'num_cross_validation': None,\n  'target': 'udacity',\n  'AMLSettingsJsonString': '{\"path\":null,\"name\":\"project3\",\"subscription_id\":\"7c03dd83-6b95-43b1-9f53-23dfd07e8803\",\"resource_group\":\"azp-102-temp_ai-rg\",\"workspace_name\":\"AZP-102_Temp_AI_ML_POC\",\"region\":\"westeurope\",\"compute_target\":\"udacity\",\"spark_service\":null,\"azure_service\":\"remote\",\"many_models\":false,\"pipeline_fetch_max_batch_size\":1,\"enable_batch_run\":true,\"enable_parallel_run\":false,\"num_procs\":null,\"enable_run_restructure\":false,\"start_auxiliary_runs_before_parent_complete\":false,\"enable_code_generation\":true,\"iterations\":1000,\"primary_metric\":\"r2_score\",\"task_type\":\"regression\",\"positive_label\":null,\"data_script\":null,\"test_size\":0.0,\"test_include_predictions_only\":false,\"validation_size\":0.0,\"n_cross_validations\":null,\"y_min\":null,\"y_max\":null,\"num_classes\":null,\"featurization\":\"auto\",\"_ignore_package_version_incompatibilities\":false,\"is_timeseries\":false,\"max_cores_per_iteration\":1,\"max_concurrent_iterations\":5,\"iteration_timeout_minutes\":null,\"mem_in_mb\":null,\"enforce_time_on_windows\":false,\"experiment_timeout_minutes\":25,\"experiment_exit_score\":null,\"partition_column_names\":null,\"whitelist_models\":null,\"blacklist_algos\":[\"TensorFlowDNN\",\"TensorFlowLinearRegressor\"],\"supported_models\":[\"GradientBoosting\",\"ElasticNet\",\"DecisionTree\",\"LightGBM\",\"OnlineGradientDescentRegressor\",\"TabnetRegressor\",\"ExtremeRandomTrees\",\"KNN\",\"TensorFlowDNN\",\"SGD\",\"RandomForest\",\"FastLinearRegressor\",\"XGBoostRegressor\",\"LassoLars\",\"TensorFlowLinearRegressor\"],\"private_models\":[],\"auto_blacklist\":true,\"blacklist_samples_reached\":false,\"exclude_nan_labels\":true,\"verbosity\":20,\"_debug_log\":\"azureml_automl.log\",\"show_warnings\":false,\"model_explainability\":true,\"service_url\":null,\"sdk_url\":null,\"sdk_packages\":null,\"enable_onnx_compatible_models\":false,\"enable_split_onnx_featurizer_estimator_models\":false,\"vm_type\":\"STANDARD_DS3_V2\",\"telemetry_verbosity\":20,\"send_telemetry\":true,\"enable_dnn\":false,\"scenario\":\"AutoML\",\"environment_label\":null,\"save_mlflow\":false,\"enable_categorical_indicators\":false,\"force_text_dnn\":false,\"enable_feature_sweeping\":true,\"enable_early_stopping\":true,\"early_stopping_n_iters\":10,\"arguments\":null,\"dataset_id\":\"c163a65e-49af-4b56-901e-aa52133f237a\",\"hyperdrive_config\":null,\"validation_dataset_id\":null,\"run_source\":null,\"metrics\":null,\"enable_metric_confidence\":false,\"enable_ensembling\":false,\"enable_stack_ensembling\":false,\"ensemble_iterations\":15,\"enable_tf\":false,\"enable_subsampling\":null,\"subsample_seed\":null,\"enable_nimbusml\":false,\"enable_streaming\":false,\"force_streaming\":false,\"track_child_runs\":true,\"n_best_runs\":1,\"allowed_private_models\":[],\"label_column_name\":\"CO2 Emissions(g/km)\",\"weight_column_name\":null,\"cv_split_column_names\":null,\"enable_local_managed\":false,\"_local_managed_run_id\":null,\"cost_mode\":1,\"lag_length\":0,\"metric_operation\":\"maximize\",\"preprocess\":true,\"additional_metrics\":[\"mean_absolute_error\",\"root_mean_squared_error\"]}',\n  'DataPrepJsonString': '{\\\\\"training_data\\\\\": {\\\\\"datasetId\\\\\": \\\\\"c163a65e-49af-4b56-901e-aa52133f237a\\\\\"}, \\\\\"datasets\\\\\": 0}',\n  'EnableSubsampling': None,\n  'runTemplate': 'AutoML',\n  'azureml.runsource': 'automl',\n  'display_task_type': 'regression',\n  'dependencies_versions': '{\"azureml-dataprep-native\": \"38.0.0\", \"azureml-dataprep\": \"4.11.3\", \"azureml-dataprep-rslex\": \"2.18.3\", \"azureml-automl-runtime\": \"1.52.0.post1\", \"azureml-pipeline\": \"1.52.0\", \"azureml-train\": \"1.52.0\", \"azureml-automl-core\": \"1.52.0\", \"azureml-pipeline-steps\": \"1.52.0\", \"azureml-sdk\": \"1.52.0\", \"azureml-mlflow\": \"1.52.0\", \"azureml-dataset-runtime\": \"1.52.0\", \"azureml-training-tabular\": \"1.52.0\", \"azureml-core\": \"1.52.0\", \"azureml-train-core\": \"1.52.0\", \"azureml-interpret\": \"1.52.0\", \"azureml-train-restclients-hyperdrive\": \"1.52.0\", \"azureml-train-automl-client\": \"1.52.0\", \"azureml-pipeline-core\": \"1.52.0\", \"azureml-telemetry\": \"1.52.0\", \"azureml-train-automl-runtime\": \"1.52.0\", \"azureml-widgets\": \"1.49.0\"}',\n  '_aml_system_scenario_identification': 'Remote.Parent',\n  'ClientType': 'SDK',\n  'PlatformVersion': 'DPV1',\n  'environment_cpu_name': 'AzureML-AutoML',\n  'environment_cpu_label': 'prod',\n  'environment_gpu_name': 'AzureML-AutoML-GPU',\n  'environment_gpu_label': 'prod',\n  'root_attribution': 'automl',\n  'attribution': 'AutoML',\n  'Orchestrator': 'AutoML',\n  'CancelUri': 'https://westeurope.api.azureml.ms/jasmine/v1.0/subscriptions/7c03dd83-6b95-43b1-9f53-23dfd07e8803/resourceGroups/azp-102-temp_ai-rg/providers/Microsoft.MachineLearningServices/workspaces/AZP-102_Temp_AI_ML_POC/experimentids/90be0e01-7acf-42d0-b2f6-9b1a23001b66/cancel/AutoML_61370fab-2ee2-4b00-861a-b5d16fb17840',\n  'ClientSdkVersion': None,\n  'snapshotId': '00000000-0000-0000-0000-000000000000',\n  'SetupRunId': 'AutoML_61370fab-2ee2-4b00-861a-b5d16fb17840_setup',\n  'SetupRunContainerId': 'dcid.AutoML_61370fab-2ee2-4b00-861a-b5d16fb17840_setup',\n  'FeaturizationRunJsonPath': 'featurizer_container.json',\n  'FeaturizationRunId': 'AutoML_61370fab-2ee2-4b00-861a-b5d16fb17840_featurize',\n  'ProblemInfoJsonString': '{\"dataset_num_categorical\": 0, \"is_sparse\": true, \"subsampling\": false, \"has_extra_col\": true, \"dataset_classes\": 331, \"dataset_features\": 2151, \"dataset_samples\": 7385, \"single_frequency_class_detected\": false}',\n  'ModelExplainRunId': 'AutoML_61370fab-2ee2-4b00-861a-b5d16fb17840_ModelExplain'},\n 'inputDatasets': [{'dataset': {'id': 'c163a65e-49af-4b56-901e-aa52133f237a'}, 'consumptionDetails': {'type': 'RunInput', 'inputName': 'training_data', 'mechanism': 'Direct'}}],\n 'outputDatasets': [],\n 'logFiles': {},\n 'submittedBy': 'Korbinian Zimmermann'}"
          },
          "metadata": {}
        }
      ],
      "execution_count": 31,
      "metadata": {
        "gather": {
          "logged": 1691576500326
        },
        "jupyter": {
          "outputs_hidden": false,
          "source_hidden": false
        },
        "nteract": {
          "transient": {
            "deleting": false
          }
        }
      }
    },
    {
      "cell_type": "markdown",
      "source": [
        "## Run Details\n",
        "\n",
        "OPTIONAL: Write about the different models trained and their performance. Why do you think some models did better than others?\n",
        "\n",
        "TODO: In the cell below, use the `RunDetails` widget to show the different experiments."
      ],
      "metadata": {}
    },
    {
      "cell_type": "code",
      "source": [
        "RunDetails(automl_run).show()"
      ],
      "outputs": [
        {
          "output_type": "display_data",
          "data": {
            "text/plain": "_AutoMLWidget(widget_settings={'childWidgetDisplay': 'popup', 'send_telemetry': False, 'log_level': 'INFO', 's…",
            "application/vnd.jupyter.widget-view+json": {
              "version_major": 2,
              "version_minor": 0,
              "model_id": "1438787f9a144bd2807cf7f85342010e"
            }
          },
          "metadata": {}
        },
        {
          "output_type": "display_data",
          "data": {
            "application/aml.mini.widget.v1": "{\"status\": \"Completed\", \"workbench_run_details_uri\": \"https://ml.azure.com/runs/AutoML_61370fab-2ee2-4b00-861a-b5d16fb17840?wsid=/subscriptions/7c03dd83-6b95-43b1-9f53-23dfd07e8803/resourcegroups/azp-102-temp_ai-rg/workspaces/AZP-102_Temp_AI_ML_POC&tid=eb70b763-b6d7-4486-8555-8831709a784e\", \"run_id\": \"AutoML_61370fab-2ee2-4b00-861a-b5d16fb17840\", \"run_properties\": {\"run_id\": \"AutoML_61370fab-2ee2-4b00-861a-b5d16fb17840\", \"created_utc\": \"2023-08-09T10:03:17.868217Z\", \"properties\": {\"num_iterations\": \"1000\", \"training_type\": \"TrainFull\", \"acquisition_function\": \"EI\", \"primary_metric\": \"r2_score\", \"train_split\": \"0\", \"acquisition_parameter\": \"0\", \"num_cross_validation\": null, \"target\": \"udacity\", \"AMLSettingsJsonString\": \"{\\\"path\\\":null,\\\"name\\\":\\\"project3\\\",\\\"subscription_id\\\":\\\"7c03dd83-6b95-43b1-9f53-23dfd07e8803\\\",\\\"resource_group\\\":\\\"azp-102-temp_ai-rg\\\",\\\"workspace_name\\\":\\\"AZP-102_Temp_AI_ML_POC\\\",\\\"region\\\":\\\"westeurope\\\",\\\"compute_target\\\":\\\"udacity\\\",\\\"spark_service\\\":null,\\\"azure_service\\\":\\\"remote\\\",\\\"many_models\\\":false,\\\"pipeline_fetch_max_batch_size\\\":1,\\\"enable_batch_run\\\":true,\\\"enable_parallel_run\\\":false,\\\"num_procs\\\":null,\\\"enable_run_restructure\\\":false,\\\"start_auxiliary_runs_before_parent_complete\\\":false,\\\"enable_code_generation\\\":true,\\\"iterations\\\":1000,\\\"primary_metric\\\":\\\"r2_score\\\",\\\"task_type\\\":\\\"regression\\\",\\\"positive_label\\\":null,\\\"data_script\\\":null,\\\"test_size\\\":0.0,\\\"test_include_predictions_only\\\":false,\\\"validation_size\\\":0.0,\\\"n_cross_validations\\\":null,\\\"y_min\\\":null,\\\"y_max\\\":null,\\\"num_classes\\\":null,\\\"featurization\\\":\\\"auto\\\",\\\"_ignore_package_version_incompatibilities\\\":false,\\\"is_timeseries\\\":false,\\\"max_cores_per_iteration\\\":1,\\\"max_concurrent_iterations\\\":5,\\\"iteration_timeout_minutes\\\":null,\\\"mem_in_mb\\\":null,\\\"enforce_time_on_windows\\\":false,\\\"experiment_timeout_minutes\\\":25,\\\"experiment_exit_score\\\":null,\\\"partition_column_names\\\":null,\\\"whitelist_models\\\":null,\\\"blacklist_algos\\\":[\\\"TensorFlowDNN\\\",\\\"TensorFlowLinearRegressor\\\"],\\\"supported_models\\\":[\\\"GradientBoosting\\\",\\\"ElasticNet\\\",\\\"DecisionTree\\\",\\\"LightGBM\\\",\\\"OnlineGradientDescentRegressor\\\",\\\"TabnetRegressor\\\",\\\"ExtremeRandomTrees\\\",\\\"KNN\\\",\\\"TensorFlowDNN\\\",\\\"SGD\\\",\\\"RandomForest\\\",\\\"FastLinearRegressor\\\",\\\"XGBoostRegressor\\\",\\\"LassoLars\\\",\\\"TensorFlowLinearRegressor\\\"],\\\"private_models\\\":[],\\\"auto_blacklist\\\":true,\\\"blacklist_samples_reached\\\":false,\\\"exclude_nan_labels\\\":true,\\\"verbosity\\\":20,\\\"_debug_log\\\":\\\"azureml_automl.log\\\",\\\"show_warnings\\\":false,\\\"model_explainability\\\":true,\\\"service_url\\\":null,\\\"sdk_url\\\":null,\\\"sdk_packages\\\":null,\\\"enable_onnx_compatible_models\\\":false,\\\"enable_split_onnx_featurizer_estimator_models\\\":false,\\\"vm_type\\\":\\\"STANDARD_DS3_V2\\\",\\\"telemetry_verbosity\\\":20,\\\"send_telemetry\\\":true,\\\"enable_dnn\\\":false,\\\"scenario\\\":\\\"AutoML\\\",\\\"environment_label\\\":null,\\\"save_mlflow\\\":false,\\\"enable_categorical_indicators\\\":false,\\\"force_text_dnn\\\":false,\\\"enable_feature_sweeping\\\":true,\\\"enable_early_stopping\\\":true,\\\"early_stopping_n_iters\\\":10,\\\"arguments\\\":null,\\\"dataset_id\\\":\\\"c163a65e-49af-4b56-901e-aa52133f237a\\\",\\\"hyperdrive_config\\\":null,\\\"validation_dataset_id\\\":null,\\\"run_source\\\":null,\\\"metrics\\\":null,\\\"enable_metric_confidence\\\":false,\\\"enable_ensembling\\\":false,\\\"enable_stack_ensembling\\\":false,\\\"ensemble_iterations\\\":15,\\\"enable_tf\\\":false,\\\"enable_subsampling\\\":null,\\\"subsample_seed\\\":null,\\\"enable_nimbusml\\\":false,\\\"enable_streaming\\\":false,\\\"force_streaming\\\":false,\\\"track_child_runs\\\":true,\\\"n_best_runs\\\":1,\\\"allowed_private_models\\\":[],\\\"label_column_name\\\":\\\"CO2 Emissions(g/km)\\\",\\\"weight_column_name\\\":null,\\\"cv_split_column_names\\\":null,\\\"enable_local_managed\\\":false,\\\"_local_managed_run_id\\\":null,\\\"cost_mode\\\":1,\\\"lag_length\\\":0,\\\"metric_operation\\\":\\\"maximize\\\",\\\"preprocess\\\":true,\\\"additional_metrics\\\":[\\\"mean_absolute_error\\\",\\\"root_mean_squared_error\\\"]}\", \"DataPrepJsonString\": \"{\\\\\\\"training_data\\\\\\\": {\\\\\\\"datasetId\\\\\\\": \\\\\\\"c163a65e-49af-4b56-901e-aa52133f237a\\\\\\\"}, \\\\\\\"datasets\\\\\\\": 0}\", \"EnableSubsampling\": null, \"runTemplate\": \"AutoML\", \"azureml.runsource\": \"automl\", \"display_task_type\": \"regression\", \"dependencies_versions\": \"{\\\"azureml-dataprep-native\\\": \\\"38.0.0\\\", \\\"azureml-dataprep\\\": \\\"4.11.3\\\", \\\"azureml-dataprep-rslex\\\": \\\"2.18.3\\\", \\\"azureml-automl-runtime\\\": \\\"1.52.0.post1\\\", \\\"azureml-pipeline\\\": \\\"1.52.0\\\", \\\"azureml-train\\\": \\\"1.52.0\\\", \\\"azureml-automl-core\\\": \\\"1.52.0\\\", \\\"azureml-pipeline-steps\\\": \\\"1.52.0\\\", \\\"azureml-sdk\\\": \\\"1.52.0\\\", \\\"azureml-mlflow\\\": \\\"1.52.0\\\", \\\"azureml-dataset-runtime\\\": \\\"1.52.0\\\", \\\"azureml-training-tabular\\\": \\\"1.52.0\\\", \\\"azureml-core\\\": \\\"1.52.0\\\", \\\"azureml-train-core\\\": \\\"1.52.0\\\", \\\"azureml-interpret\\\": \\\"1.52.0\\\", \\\"azureml-train-restclients-hyperdrive\\\": \\\"1.52.0\\\", \\\"azureml-train-automl-client\\\": \\\"1.52.0\\\", \\\"azureml-pipeline-core\\\": \\\"1.52.0\\\", \\\"azureml-telemetry\\\": \\\"1.52.0\\\", \\\"azureml-train-automl-runtime\\\": \\\"1.52.0\\\", \\\"azureml-widgets\\\": \\\"1.49.0\\\"}\", \"_aml_system_scenario_identification\": \"Remote.Parent\", \"ClientType\": \"SDK\", \"PlatformVersion\": \"DPV1\", \"environment_cpu_name\": \"AzureML-AutoML\", \"environment_cpu_label\": \"prod\", \"environment_gpu_name\": \"AzureML-AutoML-GPU\", \"environment_gpu_label\": \"prod\", \"root_attribution\": \"automl\", \"attribution\": \"AutoML\", \"Orchestrator\": \"AutoML\", \"CancelUri\": \"https://westeurope.api.azureml.ms/jasmine/v1.0/subscriptions/7c03dd83-6b95-43b1-9f53-23dfd07e8803/resourceGroups/azp-102-temp_ai-rg/providers/Microsoft.MachineLearningServices/workspaces/AZP-102_Temp_AI_ML_POC/experimentids/90be0e01-7acf-42d0-b2f6-9b1a23001b66/cancel/AutoML_61370fab-2ee2-4b00-861a-b5d16fb17840\", \"ClientSdkVersion\": null, \"snapshotId\": \"00000000-0000-0000-0000-000000000000\", \"SetupRunId\": \"AutoML_61370fab-2ee2-4b00-861a-b5d16fb17840_setup\", \"SetupRunContainerId\": \"dcid.AutoML_61370fab-2ee2-4b00-861a-b5d16fb17840_setup\", \"FeaturizationRunJsonPath\": \"featurizer_container.json\", \"FeaturizationRunId\": \"AutoML_61370fab-2ee2-4b00-861a-b5d16fb17840_featurize\", \"ProblemInfoJsonString\": \"{\\\"dataset_num_categorical\\\": 0, \\\"is_sparse\\\": true, \\\"subsampling\\\": false, \\\"has_extra_col\\\": true, \\\"dataset_classes\\\": 331, \\\"dataset_features\\\": 2151, \\\"dataset_samples\\\": 7385, \\\"single_frequency_class_detected\\\": false}\", \"ModelExplainRunId\": \"AutoML_61370fab-2ee2-4b00-861a-b5d16fb17840_ModelExplain\"}, \"tags\": {\"model_explain_run\": \"best_run\", \"_aml_system_automl_run_workspace_id\": \"63601acb-5e43-43dc-8525-86ce80dd0c51\", \"_aml_system_azureml.automlComponent\": \"AutoML\", \"pipeline_id_000\": \"faf12f74cf9bbd358ca5525682c5030d36f7be7c;4bc4ec47eb8df2d5d68b361cd60120e65196f757;5cc37daec73ea64276ef956449645cdb519fdfc6;ae729f09378486945c70eb2a2306f8aa8f4e30a7;6a894202d038ecb5c7c417bf556f9786ed0f13c6;81a8315d6cda43021ef8ee13d5b3fcd926dba303;be29dd8ef9fe83f67909ad067b2ee360837567fa;15e58541c67098b65d03a6b93fca780f681c9f5e;eb4d67c62276b68592794641b4cbbee89720c733;1a94a47ceeb6e3de4d1586870eb0b5b46f9d2ff9;6d09a0ee795a43e895132ff95166dba8e141aaea;4c058409e6cc4a503b1146122046abe088414f8f;e855d207cec0cd6487cd2dcd249b6cc655413e4d;fe3e28c574c755f8ec9262097b6f2abaa1264f15;abf1e76263c97dcb245e2e3c22af8672bca98a18;3000cb830d1cd19900206d2bef770e4da509572b;786564a58f2bed5c06fb589cbded991e6c6aded9;b5402e5e23e95d034621783c5097813f7fc3f147;1183faa528839e9068f57c94d547d1b73e786709;a4bd1e74e73eeac38f9bc82356003852c9ed36f7;2aca8b4b45fc09a61ced83f2066b98f8aebf676c;918157fc95daf9e05037762cef0897b7a17c8891;7d7fdfe415b40c2f22681f44bb394f0c21fcbff4;9ef9cf7d41ac49d6df84fc323024df5303803877;53ef083cb6cea6ffd4d4891127a7655ccb4dedf8;b91fd684cb45a535d66b96c384c1995e6fdd4d79;35e5c774e8e870a2b17f500ca253fc5f3606704a;b1189cb2fc13ccec56a1605746330c76bfd2b73a;481fb24ec6dd42126b5c8e7effde8f3c0a6326fb;234954ad49bb03a1b7f79b742f33a1a392841b7f;98ea6b0ca74589831a6c84e8ba7a78384a5425a1;c3fe3d351731892de91ab3854f700c53d6bc4ced;a60852faf084d0bfd96e28e75701be35fe72eb94;d0f5dc3218e38225c6b2c3c7dd6bc9124c1e387e;92112fc623be0d5ed27ea99f430e3572bad249cc;8f4f46737623cce9cc195c6395212d18a5b9ec58;6cae9c727a088b1a4b89cfc131d8014fae592968;2ca3a0f079859cd7ee93b7a4f178e39c4da0a1b9\", \"score_000\": \"0.9964631388435364;0.9966971844760758;-1;0.9933244743114379;0.987448073099685;0.9941422182187906;0.5434313980012194;0.8959402998599112;0.9953697924730484;0.905339488348568;0.8969875366605259;0.9961763807483454;0.9967478926335568;0.9759699245659403;0.912616483309382;0.8674681821493516;0.992501936573356;0.993485174224316;0.9959838380684065;0.9119932640412657;0.9706156735907955;0.9406092376968737;0.9722452983547732;0.938322818453233;-0.01647264772287989;0.9863660464246623;-1;0.9957919358969564;0.9899041218109373;0.9955950677399438;0.7302633950565394;0.9421149757050117;0.9821049603329204;0.980881119407198;NaN;NaN;NaN;-0.530131450324488\", \"predicted_cost_000\": \"0;0;0.5;0.5;0.5;0.5;0.5;0.5;0.5;0.5;0.5;0.5;0.5;0.5;0.5;0.5;0.5;0.5;0.5;0.5;0.521688021853229;9.683416311676151;0.10793030790385391;0.06180711400615468;0.1102913586554894;0.38358258276442597;54.978963153858516;3.894498119523551;0.031959181352712;0.19504915531238348;12.153229402902856;0.009170048399842711;1.3164803227496773;0.13733051460893625;6.22472277147887;39.41227501197967;1.595162194205358;0.01762805167884831\", \"fit_time_000\": \"0.14500933333333332;0.5059776666666667;0.417264;12.378827666666666;0.06533333333333334;0.49310400000000004;0.14667833333333335;0.30186799999999997;9.444439666666668;3.249515;3.760975;1.0286616666666666;0.748544;0.6139613333333332;1.3019786666666668;0.8580116666666666;3.368053666666667;15.252478000000002;0.3194853333333333;0.10534266666666665;0.6884009999999999;3.396672666666667;0.04659766666666667;0.018997333333333335;0.068257;3.6799893333333333;0.312989;2.1121066666666666;0.09139566666666665;0.388867;0.484396;0.030246666666666668;20.960767666666666;1.5831606666666664;NaN;NaN;NaN;0.20359766666666668\", \"training_percent_000\": \"100;100;100;100;100;100;100;100;100;100;100;100;100;100;100;100;100;100;100;100;100;100;100;100;100;100;100;100;100;100;100;100;100;100;100;100;100;100\", \"iteration_000\": \"0;1;2;3;4;5;6;7;12;8;13;9;14;10;15;16;17;11;18;19;22;20;23;21;24;25;26;27;29;30;31;32;28;33;37;35;36;34\", \"run_preprocessor_000\": \"MaxAbsScaler;MaxAbsScaler;StandardScalerWrapper;MaxAbsScaler;MaxAbsScaler;SparseNormalizer;MaxAbsScaler;MaxAbsScaler;SparseNormalizer;StandardScalerWrapper;MaxAbsScaler;SparseNormalizer;StandardScalerWrapper;MaxAbsScaler;StandardScalerWrapper;MaxAbsScaler;StandardScalerWrapper;MaxAbsScaler;StandardScalerWrapper;StandardScalerWrapper;SparseNormalizer;StandardScalerWrapper;StandardScalerWrapper;MaxAbsScaler;StandardScalerWrapper;StandardScalerWrapper;SparseNormalizer;SparseNormalizer;StandardScalerWrapper;SparseNormalizer;MaxAbsScaler;MaxAbsScaler;MaxAbsScaler;StandardScalerWrapper;;;;StandardScalerWrapper\", \"run_algorithm_000\": \"LightGBM;XGBoostRegressor;XGBoostRegressor;ElasticNet;LightGBM;XGBoostRegressor;RandomForest;RandomForest;XGBoostRegressor;ExtremeRandomTrees;RandomForest;XGBoostRegressor;XGBoostRegressor;ExtremeRandomTrees;ElasticNet;RandomForest;ElasticNet;ElasticNet;XGBoostRegressor;ExtremeRandomTrees;ExtremeRandomTrees;ElasticNet;LightGBM;DecisionTree;XGBoostRegressor;ExtremeRandomTrees;XGBoostRegressor;XGBoostRegressor;DecisionTree;XGBoostRegressor;GradientBoosting;DecisionTree;RandomForest;ElasticNet;;;;XGBoostRegressor\", \"dynamic_allowlisting_iterations\": \"<24>;<30>;<35>;\", \"_aml_system_azureml.automl_early_exit_message\": \"No scores improved over last 10 iterations, so experiment stopped early. This early stopping behavior can be disabled by setting enable_early_stopping = False in AutoMLConfig for notebook/python SDK runs.\", \"automl_best_child_run_id\": \"AutoML_61370fab-2ee2-4b00-861a-b5d16fb17840_14\", \"model_explain_best_run_child_id\": \"AutoML_61370fab-2ee2-4b00-861a-b5d16fb17840_14\"}, \"end_time_utc\": \"2023-08-09T10:21:08.181329Z\", \"status\": \"Completed\", \"log_files\": {}, \"log_groups\": [], \"run_duration\": \"0:17:50\", \"run_number\": \"1691575397\", \"run_queued_details\": {\"status\": \"Completed\", \"details\": null}}, \"child_runs\": [{\"run_id\": \"AutoML_61370fab-2ee2-4b00-861a-b5d16fb17840_setup\", \"run_number\": 1691575410, \"metric\": null, \"status\": \"Completed\", \"run_type\": \"azureml.scriptrun\", \"training_percent\": null, \"start_time\": \"2023-08-09T10:07:36.049813Z\", \"end_time\": \"2023-08-09T10:08:47.034597Z\", \"created_time\": \"2023-08-09T10:03:30.594474Z\", \"created_time_dt\": \"2023-08-09T10:03:30.594474Z\", \"duration\": \"0:05:16\", \"iteration\": null, \"goal\": null, \"run_name\": \"Completed\", \"run_properties\": null}, {\"run_id\": \"AutoML_61370fab-2ee2-4b00-861a-b5d16fb17840_featurize\", \"run_number\": 1691575727, \"metric\": null, \"status\": \"Completed\", \"run_type\": \"automl.featurization\", \"training_percent\": null, \"start_time\": \"2023-08-09T10:08:47.980551Z\", \"end_time\": \"2023-08-09T10:10:04.101902Z\", \"created_time\": \"2023-08-09T10:08:47.49551Z\", \"created_time_dt\": \"2023-08-09T10:08:47.49551Z\", \"duration\": \"0:01:16\", \"iteration\": null, \"goal\": null, \"run_name\": \"Completed\", \"run_properties\": null}, {\"run_id\": \"AutoML_61370fab-2ee2-4b00-861a-b5d16fb17840_0\", \"run_number\": 1691575806, \"metric\": null, \"status\": \"Completed\", \"run_type\": null, \"training_percent\": \"100\", \"start_time\": \"2023-08-09T10:10:28.934425Z\", \"end_time\": \"2023-08-09T10:10:42.049623Z\", \"created_time\": \"2023-08-09T10:10:06.195778Z\", \"created_time_dt\": \"2023-08-09T10:10:06.195778Z\", \"duration\": \"0:00:35\", \"iteration\": \"0\", \"goal\": \"r2_score_max\", \"run_name\": \"MaxAbsScaler, LightGBM\", \"run_properties\": \"copy=True\", \"primary_metric\": 0.99646314, \"best_metric\": 0.99646314}, {\"run_id\": \"AutoML_61370fab-2ee2-4b00-861a-b5d16fb17840_2\", \"run_number\": 1691575807, \"metric\": null, \"status\": \"Completed\", \"run_type\": null, \"training_percent\": \"100\", \"start_time\": \"2023-08-09T10:10:56.564419Z\", \"end_time\": \"2023-08-09T10:11:09.764988Z\", \"created_time\": \"2023-08-09T10:10:07.748037Z\", \"created_time_dt\": \"2023-08-09T10:10:07.748037Z\", \"duration\": \"0:01:02\", \"iteration\": \"2\", \"goal\": \"r2_score_max\", \"run_name\": \"StandardScalerWrapper, XGBoostRegressor\", \"run_properties\": \"copy=True, with_mean=False, with_std=False\", \"primary_metric\": -1.0, \"best_metric\": 0.99646314}, {\"run_id\": \"AutoML_61370fab-2ee2-4b00-861a-b5d16fb17840_worker_0\", \"run_number\": 1691575808, \"metric\": null, \"status\": \"Completed\", \"run_type\": \"azureml.scriptrun\", \"training_percent\": null, \"start_time\": \"2023-08-09T10:10:20.419606Z\", \"end_time\": \"2023-08-09T10:12:26.886487Z\", \"created_time\": \"2023-08-09T10:10:08.958074Z\", \"created_time_dt\": \"2023-08-09T10:10:08.958074Z\", \"duration\": \"0:02:17\", \"iteration\": null, \"goal\": null, \"run_name\": \"Completed\", \"run_properties\": null}, {\"run_id\": \"AutoML_61370fab-2ee2-4b00-861a-b5d16fb17840_4\", \"run_number\": 1691575809, \"metric\": null, \"status\": \"Completed\", \"run_type\": null, \"training_percent\": \"100\", \"start_time\": \"2023-08-09T10:12:38.953519Z\", \"end_time\": \"2023-08-09T10:12:51.717667Z\", \"created_time\": \"2023-08-09T10:10:09.249572Z\", \"created_time_dt\": \"2023-08-09T10:10:09.249572Z\", \"duration\": \"0:02:42\", \"iteration\": \"4\", \"goal\": \"r2_score_max\", \"run_name\": \"MaxAbsScaler, LightGBM\", \"run_properties\": \"copy=True\", \"primary_metric\": 0.98744807, \"best_metric\": 0.99646314}, {\"run_id\": \"AutoML_61370fab-2ee2-4b00-861a-b5d16fb17840_6\", \"run_number\": 1691575810, \"metric\": null, \"status\": \"Completed\", \"run_type\": null, \"training_percent\": \"100\", \"start_time\": \"2023-08-09T10:13:06.603646Z\", \"end_time\": \"2023-08-09T10:13:17.861785Z\", \"created_time\": \"2023-08-09T10:10:10.654732Z\", \"created_time_dt\": \"2023-08-09T10:10:10.654732Z\", \"duration\": \"0:03:07\", \"iteration\": \"6\", \"goal\": \"r2_score_max\", \"run_name\": \"MaxAbsScaler, RandomForest\", \"run_properties\": \"copy=True\", \"primary_metric\": 0.5434314, \"best_metric\": 0.99646314}, {\"run_id\": \"AutoML_61370fab-2ee2-4b00-861a-b5d16fb17840_worker_1\", \"run_number\": 1691575811, \"metric\": null, \"status\": \"Completed\", \"run_type\": \"azureml.scriptrun\", \"training_percent\": null, \"start_time\": \"2023-08-09T10:12:30.421445Z\", \"end_time\": \"2023-08-09T10:13:39.630023Z\", \"created_time\": \"2023-08-09T10:10:11.798588Z\", \"created_time_dt\": \"2023-08-09T10:10:11.798588Z\", \"duration\": \"0:03:27\", \"iteration\": null, \"goal\": null, \"run_name\": \"Completed\", \"run_properties\": null}, {\"run_id\": \"AutoML_61370fab-2ee2-4b00-861a-b5d16fb17840_8\", \"run_number\": 1691575812, \"metric\": null, \"status\": \"Completed\", \"run_type\": null, \"training_percent\": \"100\", \"start_time\": \"2023-08-09T10:14:29.034833Z\", \"end_time\": \"2023-08-09T10:14:56.938707Z\", \"created_time\": \"2023-08-09T10:10:12.074818Z\", \"created_time_dt\": \"2023-08-09T10:10:12.074818Z\", \"duration\": \"0:04:44\", \"iteration\": \"8\", \"goal\": \"r2_score_max\", \"run_name\": \"StandardScalerWrapper, ExtremeRandomTrees\", \"run_properties\": \"copy=True, with_mean=False, with_std=False\", \"primary_metric\": 0.90533949, \"best_metric\": 0.99646314}, {\"run_id\": \"AutoML_61370fab-2ee2-4b00-861a-b5d16fb17840_10\", \"run_number\": 1691575813, \"metric\": null, \"status\": \"Completed\", \"run_type\": null, \"training_percent\": \"100\", \"start_time\": \"2023-08-09T10:15:15.343664Z\", \"end_time\": \"2023-08-09T10:15:29.869905Z\", \"created_time\": \"2023-08-09T10:10:13.444192Z\", \"created_time_dt\": \"2023-08-09T10:10:13.444192Z\", \"duration\": \"0:05:16\", \"iteration\": \"10\", \"goal\": \"r2_score_max\", \"run_name\": \"MaxAbsScaler, ExtremeRandomTrees\", \"run_properties\": \"copy=True\", \"primary_metric\": 0.97596992, \"best_metric\": 0.99646314}, {\"run_id\": \"AutoML_61370fab-2ee2-4b00-861a-b5d16fb17840_worker_2\", \"run_number\": 1691575814, \"metric\": null, \"status\": \"Completed\", \"run_type\": \"azureml.scriptrun\", \"training_percent\": null, \"start_time\": \"2023-08-09T10:13:30.600576Z\", \"end_time\": \"2023-08-09T10:17:01.047932Z\", \"created_time\": \"2023-08-09T10:10:14.433772Z\", \"created_time_dt\": \"2023-08-09T10:10:14.433772Z\", \"duration\": \"0:06:46\", \"iteration\": null, \"goal\": null, \"run_name\": \"Completed\", \"run_properties\": null}, {\"run_id\": \"AutoML_61370fab-2ee2-4b00-861a-b5d16fb17840_13\", \"run_number\": 1691575815, \"metric\": null, \"status\": \"Completed\", \"run_type\": null, \"training_percent\": \"100\", \"start_time\": \"2023-08-09T10:14:45.810161Z\", \"end_time\": \"2023-08-09T10:15:12.695443Z\", \"created_time\": \"2023-08-09T10:10:15.423291Z\", \"created_time_dt\": \"2023-08-09T10:10:15.423291Z\", \"duration\": \"0:04:57\", \"iteration\": \"13\", \"goal\": \"r2_score_max\", \"run_name\": \"MaxAbsScaler, RandomForest\", \"run_properties\": \"copy=True\", \"primary_metric\": 0.89698754, \"best_metric\": 0.99646314}, {\"run_id\": \"AutoML_61370fab-2ee2-4b00-861a-b5d16fb17840_14\", \"run_number\": 1691575816, \"metric\": null, \"status\": \"Completed\", \"run_type\": null, \"training_percent\": \"100\", \"start_time\": \"2023-08-09T10:15:13.572755Z\", \"end_time\": \"2023-08-09T10:15:27.592927Z\", \"created_time\": \"2023-08-09T10:10:16.031115Z\", \"created_time_dt\": \"2023-08-09T10:10:16.031115Z\", \"duration\": \"0:05:11\", \"iteration\": \"14\", \"goal\": \"r2_score_max\", \"run_name\": \"StandardScalerWrapper, XGBoostRegressor\", \"run_properties\": \"copy=True, with_mean=False, with_std=False\", \"primary_metric\": 0.99674789, \"best_metric\": 0.99674789}, {\"run_id\": \"AutoML_61370fab-2ee2-4b00-861a-b5d16fb17840_worker_3\", \"run_number\": 1691575817, \"metric\": null, \"status\": \"Completed\", \"run_type\": \"azureml.scriptrun\", \"training_percent\": null, \"start_time\": \"2023-08-09T10:13:42.833187Z\", \"end_time\": \"2023-08-09T10:15:54.904513Z\", \"created_time\": \"2023-08-09T10:10:17.043552Z\", \"created_time_dt\": \"2023-08-09T10:10:17.043552Z\", \"duration\": \"0:05:37\", \"iteration\": null, \"goal\": null, \"run_name\": \"Completed\", \"run_properties\": null}, {\"run_id\": \"AutoML_61370fab-2ee2-4b00-861a-b5d16fb17840_18\", \"run_number\": 1691575818, \"metric\": null, \"status\": \"Completed\", \"run_type\": null, \"training_percent\": \"100\", \"start_time\": \"2023-08-09T10:16:51.458616Z\", \"end_time\": \"2023-08-09T10:17:03.524026Z\", \"created_time\": \"2023-08-09T10:10:18.606748Z\", \"created_time_dt\": \"2023-08-09T10:10:18.606748Z\", \"duration\": \"0:06:44\", \"iteration\": \"18\", \"goal\": \"r2_score_max\", \"run_name\": \"StandardScalerWrapper, XGBoostRegressor\", \"run_properties\": \"copy=True, with_mean=False, with_std=False\", \"primary_metric\": 0.99598384, \"best_metric\": 0.99674789}, {\"run_id\": \"AutoML_61370fab-2ee2-4b00-861a-b5d16fb17840_worker_4\", \"run_number\": 1691575819, \"metric\": null, \"status\": \"Completed\", \"run_type\": \"azureml.scriptrun\", \"training_percent\": null, \"start_time\": \"2023-08-09T10:15:59.102962Z\", \"end_time\": \"2023-08-09T10:17:23.818186Z\", \"created_time\": \"2023-08-09T10:10:19.756612Z\", \"created_time_dt\": \"2023-08-09T10:10:19.756612Z\", \"duration\": \"0:07:04\", \"iteration\": null, \"goal\": null, \"run_name\": \"Completed\", \"run_properties\": null}, {\"run_id\": \"AutoML_61370fab-2ee2-4b00-861a-b5d16fb17840_22\", \"run_number\": 1691576189, \"metric\": null, \"status\": \"Completed\", \"run_type\": \"azureml.scriptrun\", \"training_percent\": \"100\", \"start_time\": \"2023-08-09T10:17:03.163059Z\", \"end_time\": \"2023-08-09T10:17:36.76777Z\", \"created_time\": \"2023-08-09T10:16:29.229196Z\", \"created_time_dt\": \"2023-08-09T10:16:29.229196Z\", \"duration\": \"0:01:07\", \"iteration\": \"22\", \"goal\": \"r2_score_max\", \"run_name\": \"SparseNormalizer, ExtremeRandomTrees\", \"run_properties\": \"copy=True, norm='l1'\", \"primary_metric\": 0.97061567, \"best_metric\": 0.99674789}, {\"run_id\": \"AutoML_61370fab-2ee2-4b00-861a-b5d16fb17840_23\", \"run_number\": 1691576227, \"metric\": null, \"status\": \"Completed\", \"run_type\": \"azureml.scriptrun\", \"training_percent\": \"100\", \"start_time\": \"2023-08-09T10:17:42.276773Z\", \"end_time\": \"2023-08-09T10:18:12.676453Z\", \"created_time\": \"2023-08-09T10:17:07.774879Z\", \"created_time_dt\": \"2023-08-09T10:17:07.774879Z\", \"duration\": \"0:01:04\", \"iteration\": \"23\", \"goal\": \"r2_score_max\", \"run_name\": \"StandardScalerWrapper, LightGBM\", \"run_properties\": \"copy=True, with_mean=False, with_std=True\", \"primary_metric\": 0.9722453, \"best_metric\": 0.99674789}, {\"run_id\": \"AutoML_61370fab-2ee2-4b00-861a-b5d16fb17840_25\", \"run_number\": 1691576262, \"metric\": null, \"status\": \"Completed\", \"run_type\": \"azureml.scriptrun\", \"training_percent\": \"100\", \"start_time\": \"2023-08-09T10:18:12.811615Z\", \"end_time\": \"2023-08-09T10:18:56.664156Z\", \"created_time\": \"2023-08-09T10:17:42.345933Z\", \"created_time_dt\": \"2023-08-09T10:17:42.345933Z\", \"duration\": \"0:01:14\", \"iteration\": \"25\", \"goal\": \"r2_score_max\", \"run_name\": \"StandardScalerWrapper, ExtremeRandomTrees\", \"run_properties\": \"copy=True, with_mean=False, with_std=False\", \"primary_metric\": 0.98636605, \"best_metric\": 0.99674789}, {\"run_id\": \"AutoML_61370fab-2ee2-4b00-861a-b5d16fb17840_26\", \"run_number\": 1691576291, \"metric\": null, \"status\": \"Completed\", \"run_type\": \"azureml.scriptrun\", \"training_percent\": \"100\", \"start_time\": \"2023-08-09T10:18:45.416751Z\", \"end_time\": \"2023-08-09T10:19:14.462846Z\", \"created_time\": \"2023-08-09T10:18:11.109369Z\", \"created_time_dt\": \"2023-08-09T10:18:11.109369Z\", \"duration\": \"0:01:03\", \"iteration\": \"26\", \"goal\": \"r2_score_max\", \"run_name\": \"SparseNormalizer, XGBoostRegressor\", \"run_properties\": \"copy=True, norm='l2'\", \"primary_metric\": -1.0, \"best_metric\": 0.99674789}, {\"run_id\": \"AutoML_61370fab-2ee2-4b00-861a-b5d16fb17840_27\", \"run_number\": 1691576294, \"metric\": null, \"status\": \"Completed\", \"run_type\": \"azureml.scriptrun\", \"training_percent\": \"100\", \"start_time\": \"2023-08-09T10:18:48.717037Z\", \"end_time\": \"2023-08-09T10:19:27.984416Z\", \"created_time\": \"2023-08-09T10:18:14.868614Z\", \"created_time_dt\": \"2023-08-09T10:18:14.868614Z\", \"duration\": \"0:01:13\", \"iteration\": \"27\", \"goal\": \"r2_score_max\", \"run_name\": \"SparseNormalizer, XGBoostRegressor\", \"run_properties\": \"copy=True, norm='l2'\", \"primary_metric\": 0.99579194, \"best_metric\": 0.99674789}, {\"run_id\": \"AutoML_61370fab-2ee2-4b00-861a-b5d16fb17840_28\", \"run_number\": 1691576325, \"metric\": null, \"status\": \"Completed\", \"run_type\": \"azureml.scriptrun\", \"training_percent\": \"100\", \"start_time\": \"2023-08-09T10:19:00.594713Z\", \"end_time\": \"2023-08-09T10:20:55.699151Z\", \"created_time\": \"2023-08-09T10:18:45.156082Z\", \"created_time_dt\": \"2023-08-09T10:18:45.156082Z\", \"duration\": \"0:02:10\", \"iteration\": \"28\", \"goal\": \"r2_score_max\", \"run_name\": \"MaxAbsScaler, RandomForest\", \"run_properties\": \"copy=True\", \"primary_metric\": 0.98210496, \"best_metric\": 0.99674789}, {\"run_id\": \"AutoML_61370fab-2ee2-4b00-861a-b5d16fb17840_29\", \"run_number\": 1691576328, \"metric\": null, \"status\": \"Completed\", \"run_type\": \"azureml.scriptrun\", \"training_percent\": \"100\", \"start_time\": \"2023-08-09T10:19:18.661754Z\", \"end_time\": \"2023-08-09T10:19:45.416941Z\", \"created_time\": \"2023-08-09T10:18:48.42841Z\", \"created_time_dt\": \"2023-08-09T10:18:48.42841Z\", \"duration\": \"0:00:56\", \"iteration\": \"29\", \"goal\": \"r2_score_max\", \"run_name\": \"StandardScalerWrapper, DecisionTree\", \"run_properties\": \"copy=True, with_mean=False, with_std=True\", \"primary_metric\": 0.98990412, \"best_metric\": 0.99674789}, {\"run_id\": \"AutoML_61370fab-2ee2-4b00-861a-b5d16fb17840_30\", \"run_number\": 1691576339, \"metric\": null, \"status\": \"Completed\", \"run_type\": \"azureml.scriptrun\", \"training_percent\": \"100\", \"start_time\": \"2023-08-09T10:19:30.941353Z\", \"end_time\": \"2023-08-09T10:20:02.245483Z\", \"created_time\": \"2023-08-09T10:18:59.737487Z\", \"created_time_dt\": \"2023-08-09T10:18:59.737487Z\", \"duration\": \"0:01:02\", \"iteration\": \"30\", \"goal\": \"r2_score_max\", \"run_name\": \"SparseNormalizer, XGBoostRegressor\", \"run_properties\": \"copy=True, norm='l1'\", \"primary_metric\": 0.99559507, \"best_metric\": 0.99674789}, {\"run_id\": \"AutoML_61370fab-2ee2-4b00-861a-b5d16fb17840_31\", \"run_number\": 1691576356, \"metric\": null, \"status\": \"Completed\", \"run_type\": \"azureml.scriptrun\", \"training_percent\": \"100\", \"start_time\": \"2023-08-09T10:19:49.069751Z\", \"end_time\": \"2023-08-09T10:20:19.72787Z\", \"created_time\": \"2023-08-09T10:19:16.739794Z\", \"created_time_dt\": \"2023-08-09T10:19:16.739794Z\", \"duration\": \"0:01:02\", \"iteration\": \"31\", \"goal\": \"r2_score_max\", \"run_name\": \"MaxAbsScaler, GradientBoosting\", \"run_properties\": \"copy=True\", \"primary_metric\": 0.7302634, \"best_metric\": 0.99674789}, {\"run_id\": \"AutoML_61370fab-2ee2-4b00-861a-b5d16fb17840_32\", \"run_number\": 1691576370, \"metric\": null, \"status\": \"Completed\", \"run_type\": \"azureml.scriptrun\", \"training_percent\": \"100\", \"start_time\": \"2023-08-09T10:20:07.363262Z\", \"end_time\": \"2023-08-09T10:20:37.106244Z\", \"created_time\": \"2023-08-09T10:19:30.337797Z\", \"created_time_dt\": \"2023-08-09T10:19:30.337797Z\", \"duration\": \"0:01:06\", \"iteration\": \"32\", \"goal\": \"r2_score_max\", \"run_name\": \"MaxAbsScaler, DecisionTree\", \"run_properties\": \"copy=True\", \"primary_metric\": 0.94211498, \"best_metric\": 0.99674789}, {\"run_id\": \"AutoML_61370fab-2ee2-4b00-861a-b5d16fb17840_33\", \"run_number\": 1691576387, \"metric\": null, \"status\": \"Completed\", \"run_type\": \"azureml.scriptrun\", \"training_percent\": \"100\", \"start_time\": \"2023-08-09T10:20:22.35531Z\", \"end_time\": \"2023-08-09T10:20:56.92908Z\", \"created_time\": \"2023-08-09T10:19:47.510312Z\", \"created_time_dt\": \"2023-08-09T10:19:47.510312Z\", \"duration\": \"0:01:09\", \"iteration\": \"33\", \"goal\": \"r2_score_max\", \"run_name\": \"StandardScalerWrapper, ElasticNet\", \"run_properties\": \"copy=True, with_mean=False, with_std=True\", \"primary_metric\": 0.98088112, \"best_metric\": 0.99674789}, {\"run_id\": \"AutoML_61370fab-2ee2-4b00-861a-b5d16fb17840_34\", \"run_number\": 1691576404, \"metric\": null, \"status\": \"Canceled\", \"run_type\": \"azureml.scriptrun\", \"training_percent\": \"100\", \"start_time\": \"2023-08-09T10:20:40.671137Z\", \"end_time\": \"2023-08-09T10:21:06.500638Z\", \"created_time\": \"2023-08-09T10:20:04.222729Z\", \"created_time_dt\": \"2023-08-09T10:20:04.222729Z\", \"duration\": \"0:01:02\", \"iteration\": \"34\", \"goal\": \"r2_score_max\", \"run_name\": \"StandardScalerWrapper, XGBoostRegressor\", \"run_properties\": \"copy=True, with_mean=False, with_std=False\", \"primary_metric\": -0.53013145, \"best_metric\": 0.99674789}, {\"run_id\": \"AutoML_61370fab-2ee2-4b00-861a-b5d16fb17840_35\", \"run_number\": 1691576423, \"metric\": null, \"status\": \"Canceled\", \"run_type\": \"azureml.scriptrun\", \"training_percent\": \"100\", \"start_time\": \"2023-08-09T10:20:58.626623Z\", \"end_time\": \"2023-08-09T10:21:06.46695Z\", \"created_time\": \"2023-08-09T10:20:23.124975Z\", \"created_time_dt\": \"2023-08-09T10:20:23.124975Z\", \"duration\": \"0:00:43\", \"iteration\": \"35\", \"goal\": null, \"run_name\": \"Canceled\", \"run_properties\": null}, {\"run_id\": \"AutoML_61370fab-2ee2-4b00-861a-b5d16fb17840_36\", \"run_number\": 1691576439, \"metric\": null, \"status\": \"Canceled\", \"run_type\": \"azureml.scriptrun\", \"training_percent\": \"100\", \"start_time\": \"2023-08-09T10:20:58.762545Z\", \"end_time\": \"2023-08-09T10:21:06.397177Z\", \"created_time\": \"2023-08-09T10:20:39.142271Z\", \"created_time_dt\": \"2023-08-09T10:20:39.142271Z\", \"duration\": \"0:00:27\", \"iteration\": \"36\", \"goal\": null, \"run_name\": \"Canceled\", \"run_properties\": null}, {\"run_id\": \"AutoML_61370fab-2ee2-4b00-861a-b5d16fb17840_37\", \"run_number\": 1691576457, \"metric\": null, \"status\": \"Canceled\", \"run_type\": \"azureml.scriptrun\", \"training_percent\": \"100\", \"start_time\": \"2023-08-09T10:20:59.714847Z\", \"end_time\": \"2023-08-09T10:21:00.544609Z\", \"created_time\": \"2023-08-09T10:20:57.555976Z\", \"created_time_dt\": \"2023-08-09T10:20:57.555976Z\", \"duration\": \"0:00:02\", \"iteration\": \"37\", \"goal\": null, \"run_name\": \"Canceled\", \"run_properties\": null}], \"children_metrics\": {\"categories\": [0], \"series\": {\"normalized_root_mean_squared_log_error\": [{\"categories\": [\"0\", \"2\", \"4\", \"6\", \"8\", \"10\", \"13\", \"14\", \"18\", \"22\", \"23\", \"25\", \"26\", \"27\", \"28\", \"29\", \"30\", \"31\", \"32\", \"33\", \"34\"], \"mode\": \"markers\", \"name\": \"normalized_root_mean_squared_log_error\", \"stepped\": false, \"type\": \"scatter\", \"data\": [0.008365521442270152, 1.0, 0.0159540923107523, 0.0958823789032806, 0.03974206189344334, 0.020934004953933456, 0.04216347254338939, 0.007943561758855137, 0.008858351919698651, 0.023129845129077637, 0.025244395144676985, 0.016200018839754252, 0.8816515693677904, 0.008973454990797899, 0.01928220835115242, 0.01480166059112229, 0.009527786380283699, 0.07262141059652581, 0.03336163973939484, 0.017996418081310393, 0.19287249152066713]}, {\"categories\": [\"0\", \"2\", \"4\", \"6\", \"8\", \"10\", \"13\", \"14\", \"18\", \"22\", \"23\", \"25\", \"26\", \"27\", \"28\", \"29\", \"30\", \"31\", \"32\", \"33\", \"34\"], \"mode\": \"lines\", \"name\": \"normalized_root_mean_squared_log_error_min\", \"stepped\": true, \"type\": \"scatter\", \"data\": [0.008365521442270152, 0.008365521442270152, 0.008365521442270152, 0.008365521442270152, 0.008365521442270152, 0.008365521442270152, 0.008365521442270152, 0.007943561758855137, 0.007943561758855137, 0.007943561758855137, 0.007943561758855137, 0.007943561758855137, 0.007943561758855137, 0.007943561758855137, 0.007943561758855137, 0.007943561758855137, 0.007943561758855137, 0.007943561758855137, 0.007943561758855137, 0.007943561758855137, 0.007943561758855137]}], \"spearman_correlation\": [{\"categories\": [\"0\", \"2\", \"4\", \"6\", \"8\", \"10\", \"13\", \"14\", \"18\", \"22\", \"23\", \"25\", \"26\", \"27\", \"28\", \"29\", \"30\", \"31\", \"32\", \"33\", \"34\"], \"mode\": \"markers\", \"name\": \"spearman_correlation\", \"stepped\": false, \"type\": \"scatter\", \"data\": [0.9984167992103856, 0.9898078964188546, 0.9950333704280853, 0.9539373291786282, 0.9752610419169856, 0.9910141125570129, 0.9707369321853389, 0.9985826242217414, 0.9983646455378463, 0.9879386821676163, 0.9891641569425725, 0.9940620912059028, 0.9891840587430117, 0.9980848868544276, 0.9892518818957702, 0.9942135718965295, 0.9980774263118786, 0.9723586268872614, 0.9756282221783495, 0.9924917082728015, 0.9954172551590861]}, {\"categories\": [\"0\", \"2\", \"4\", \"6\", \"8\", \"10\", \"13\", \"14\", \"18\", \"22\", \"23\", \"25\", \"26\", \"27\", \"28\", \"29\", \"30\", \"31\", \"32\", \"33\", \"34\"], \"mode\": \"lines\", \"name\": \"spearman_correlation_max\", \"stepped\": true, \"type\": \"scatter\", \"data\": [0.9984167992103856, 0.9984167992103856, 0.9984167992103856, 0.9984167992103856, 0.9984167992103856, 0.9984167992103856, 0.9984167992103856, 0.9985826242217414, 0.9985826242217414, 0.9985826242217414, 0.9985826242217414, 0.9985826242217414, 0.9985826242217414, 0.9985826242217414, 0.9985826242217414, 0.9985826242217414, 0.9985826242217414, 0.9985826242217414, 0.9985826242217414, 0.9985826242217414, 0.9985826242217414]}], \"normalized_median_absolute_error\": [{\"categories\": [\"0\", \"2\", \"4\", \"6\", \"8\", \"10\", \"13\", \"14\", \"18\", \"22\", \"23\", \"25\", \"26\", \"27\", \"28\", \"29\", \"30\", \"31\", \"32\", \"33\", \"34\"], \"mode\": \"markers\", \"name\": \"normalized_median_absolute_error\", \"stepped\": false, \"type\": \"scatter\", \"data\": [0.004000787607640682, 0.5200104295554482, 0.005432033135449099, 0.05162258093614944, 0.009489478927576287, 0.005758600875577519, 0.008010769043252342, 0.003268216510707037, 0.004296119224297608, 0.005978114529992925, 0.009410683492408351, 0.005058957533898191, 0.4475775138126665, 0.00451300774754866, 0.005078906487354249, 0.00445962813920558, 0.004931418548727259, 0.03393877194151223, 0.00794334886693916, 0.009272868662978878, 0.15866155728861012]}, {\"categories\": [\"0\", \"2\", \"4\", \"6\", \"8\", \"10\", \"13\", \"14\", \"18\", \"22\", \"23\", \"25\", \"26\", \"27\", \"28\", \"29\", \"30\", \"31\", \"32\", \"33\", \"34\"], \"mode\": \"lines\", \"name\": \"normalized_median_absolute_error_min\", \"stepped\": true, \"type\": \"scatter\", \"data\": [0.004000787607640682, 0.004000787607640682, 0.004000787607640682, 0.004000787607640682, 0.004000787607640682, 0.004000787607640682, 0.004000787607640682, 0.003268216510707037, 0.003268216510707037, 0.003268216510707037, 0.003268216510707037, 0.003268216510707037, 0.003268216510707037, 0.003268216510707037, 0.003268216510707037, 0.003268216510707037, 0.003268216510707037, 0.003268216510707037, 0.003268216510707037, 0.003268216510707037, 0.003268216510707037]}], \"mean_absolute_error\": [{\"categories\": [\"0\", \"2\", \"4\", \"6\", \"8\", \"10\", \"13\", \"14\", \"18\", \"22\", \"23\", \"25\", \"26\", \"27\", \"28\", \"29\", \"30\", \"31\", \"32\", \"33\", \"34\"], \"mode\": \"markers\", \"name\": \"mean_absolute_error\", \"stepped\": false, \"type\": \"scatter\", \"data\": [2.198065493755676, 226.33106102216792, 3.4174720669023464, 28.741568498936285, 9.785932142921025, 4.614088666085716, 9.237266510167979, 2.033788439325241, 2.4098819823322057, 4.898191848281486, 6.144516295975229, 3.3686079959273503, 194.77117363216928, 2.532435550902372, 3.760987567878953, 2.8789098971011273, 2.69312830300548, 20.550156737903638, 7.206803026719425, 5.648546774672145, 69.92263050283138]}, {\"categories\": [\"0\", \"2\", \"4\", \"6\", \"8\", \"10\", \"13\", \"14\", \"18\", \"22\", \"23\", \"25\", \"26\", \"27\", \"28\", \"29\", \"30\", \"31\", \"32\", \"33\", \"34\"], \"mode\": \"lines\", \"name\": \"mean_absolute_error_min\", \"stepped\": true, \"type\": \"scatter\", \"data\": [2.198065493755676, 2.198065493755676, 2.198065493755676, 2.198065493755676, 2.198065493755676, 2.198065493755676, 2.198065493755676, 2.033788439325241, 2.033788439325241, 2.033788439325241, 2.033788439325241, 2.033788439325241, 2.033788439325241, 2.033788439325241, 2.033788439325241, 2.033788439325241, 2.033788439325241, 2.033788439325241, 2.033788439325241, 2.033788439325241, 2.033788439325241]}], \"root_mean_squared_error\": [{\"categories\": [\"0\", \"2\", \"4\", \"6\", \"8\", \"10\", \"13\", \"14\", \"18\", \"22\", \"23\", \"25\", \"26\", \"27\", \"28\", \"29\", \"30\", \"31\", \"32\", \"33\", \"34\"], \"mode\": \"markers\", \"name\": \"root_mean_squared_error\", \"stepped\": false, \"type\": \"scatter\", \"data\": [3.478517300424173, 232.55227377858296, 6.553913381927206, 39.47218145685816, 17.999553828273807, 9.067823814933584, 18.771334841657243, 3.330359940292798, 3.7056012488013415, 10.026116722615788, 9.74396893416958, 6.830208135676469, 200.23464987231773, 3.7912962363546403, 7.791221731630508, 5.844381059326632, 3.8822842189788553, 30.385738718772473, 14.073170242482874, 8.08957011127092, 72.36812220876402]}, {\"categories\": [\"0\", \"2\", \"4\", \"6\", \"8\", \"10\", \"13\", \"14\", \"18\", \"22\", \"23\", \"25\", \"26\", \"27\", \"28\", \"29\", \"30\", \"31\", \"32\", \"33\", \"34\"], \"mode\": \"lines\", \"name\": \"root_mean_squared_error_min\", \"stepped\": true, \"type\": \"scatter\", \"data\": [3.478517300424173, 3.478517300424173, 3.478517300424173, 3.478517300424173, 3.478517300424173, 3.478517300424173, 3.478517300424173, 3.330359940292798, 3.330359940292798, 3.330359940292798, 3.330359940292798, 3.330359940292798, 3.330359940292798, 3.330359940292798, 3.330359940292798, 3.330359940292798, 3.330359940292798, 3.330359940292798, 3.330359940292798, 3.330359940292798, 3.330359940292798]}], \"normalized_mean_absolute_error\": [{\"categories\": [\"0\", \"2\", \"4\", \"6\", \"8\", \"10\", \"13\", \"14\", \"18\", \"22\", \"23\", \"25\", \"26\", \"27\", \"28\", \"29\", \"30\", \"31\", \"32\", \"33\", \"34\"], \"mode\": \"markers\", \"name\": \"normalized_mean_absolute_error\", \"stepped\": false, \"type\": \"scatter\", \"data\": [0.0051597781543560465, 0.5312935704745726, 0.008022234898831799, 0.06746847065478001, 0.02297167169699771, 0.010831194051844404, 0.021683724202272252, 0.0047741512660216924, 0.005656999958526305, 0.011498102930238228, 0.01442374717365077, 0.007907530506871714, 0.45720932777504525, 0.0059446843917896055, 0.00882860931426984, 0.006758004453289032, 0.006321897424895493, 0.04823980454906957, 0.016917377996993953, 0.013259499471061373, 0.16413763028833658]}, {\"categories\": [\"0\", \"2\", \"4\", \"6\", \"8\", \"10\", \"13\", \"14\", \"18\", \"22\", \"23\", \"25\", \"26\", \"27\", \"28\", \"29\", \"30\", \"31\", \"32\", \"33\", \"34\"], \"mode\": \"lines\", \"name\": \"normalized_mean_absolute_error_min\", \"stepped\": true, \"type\": \"scatter\", \"data\": [0.0051597781543560465, 0.0051597781543560465, 0.0051597781543560465, 0.0051597781543560465, 0.0051597781543560465, 0.0051597781543560465, 0.0051597781543560465, 0.0047741512660216924, 0.0047741512660216924, 0.0047741512660216924, 0.0047741512660216924, 0.0047741512660216924, 0.0047741512660216924, 0.0047741512660216924, 0.0047741512660216924, 0.0047741512660216924, 0.0047741512660216924, 0.0047741512660216924, 0.0047741512660216924, 0.0047741512660216924, 0.0047741512660216924]}], \"mean_absolute_percentage_error\": [{\"categories\": [\"0\", \"2\", \"4\", \"6\", \"8\", \"10\", \"13\", \"14\", \"18\", \"22\", \"23\", \"25\", \"26\", \"27\", \"28\", \"29\", \"30\", \"31\", \"32\", \"33\", \"34\"], \"mode\": \"markers\", \"name\": \"mean_absolute_percentage_error\", \"stepped\": false, \"type\": \"scatter\", \"data\": [0.8882506295127642, 90.27168805758242, 1.40869905050216, 12.381394923289749, 3.84819078735741, 1.864540387962278, 3.6888439561700235, 0.8215769151018835, 0.9784022262152122, 1.9765313199014487, 2.5636863653282553, 1.3733992966924127, 77.65434540628577, 1.021453924769632, 1.5590648219287768, 1.1903775043676703, 1.0940811702717834, 8.72278408394012, 2.9367917076695984, 2.222478042303244, 27.771367888926836]}, {\"categories\": [\"0\", \"2\", \"4\", \"6\", \"8\", \"10\", \"13\", \"14\", \"18\", \"22\", \"23\", \"25\", \"26\", \"27\", \"28\", \"29\", \"30\", \"31\", \"32\", \"33\", \"34\"], \"mode\": \"lines\", \"name\": \"mean_absolute_percentage_error_min\", \"stepped\": true, \"type\": \"scatter\", \"data\": [0.8882506295127642, 0.8882506295127642, 0.8882506295127642, 0.8882506295127642, 0.8882506295127642, 0.8882506295127642, 0.8882506295127642, 0.8215769151018835, 0.8215769151018835, 0.8215769151018835, 0.8215769151018835, 0.8215769151018835, 0.8215769151018835, 0.8215769151018835, 0.8215769151018835, 0.8215769151018835, 0.8215769151018835, 0.8215769151018835, 0.8215769151018835, 0.8215769151018835, 0.8215769151018835]}], \"root_mean_squared_log_error\": [{\"categories\": [\"0\", \"2\", \"4\", \"6\", \"8\", \"10\", \"13\", \"14\", \"18\", \"22\", \"23\", \"25\", \"26\", \"27\", \"28\", \"29\", \"30\", \"31\", \"32\", \"33\", \"34\"], \"mode\": \"markers\", \"name\": \"root_mean_squared_log_error\", \"stepped\": false, \"type\": \"scatter\", \"data\": [0.01409482017441318, 2.293274784098027, 0.02688057925831085, 0.16154939029956586, 0.06696022711962263, 0.03527108709148154, 0.07103999045714111, 0.01338387275773033, 0.014925175700217662, 0.038970793393592246, 0.04253353630511928, 0.027294933608642834, 1.4854687077768023, 0.015119109467510279, 0.03248802374730495, 0.024938881067281315, 0.01605308606487522, 0.12235767133393238, 0.05621004214684334, 0.030321633671025913, 0.3249651684398904]}, {\"categories\": [\"0\", \"2\", \"4\", \"6\", \"8\", \"10\", \"13\", \"14\", \"18\", \"22\", \"23\", \"25\", \"26\", \"27\", \"28\", \"29\", \"30\", \"31\", \"32\", \"33\", \"34\"], \"mode\": \"lines\", \"name\": \"root_mean_squared_log_error_min\", \"stepped\": true, \"type\": \"scatter\", \"data\": [0.01409482017441318, 0.01409482017441318, 0.01409482017441318, 0.01409482017441318, 0.01409482017441318, 0.01409482017441318, 0.01409482017441318, 0.01338387275773033, 0.01338387275773033, 0.01338387275773033, 0.01338387275773033, 0.01338387275773033, 0.01338387275773033, 0.01338387275773033, 0.01338387275773033, 0.01338387275773033, 0.01338387275773033, 0.01338387275773033, 0.01338387275773033, 0.01338387275773033, 0.01338387275773033]}], \"normalized_root_mean_squared_error\": [{\"categories\": [\"0\", \"2\", \"4\", \"6\", \"8\", \"10\", \"13\", \"14\", \"18\", \"22\", \"23\", \"25\", \"26\", \"27\", \"28\", \"29\", \"30\", \"31\", \"32\", \"33\", \"34\"], \"mode\": \"markers\", \"name\": \"normalized_root_mean_squared_error\", \"stepped\": false, \"type\": \"scatter\", \"data\": [0.00816553356907083, 0.5458973562877535, 0.015384773197012222, 0.09265770295037128, 0.04225247377529063, 0.021285971396557704, 0.04406416629497004, 0.007817746338715488, 0.008698594480754322, 0.02353548526435631, 0.022873166512135164, 0.01603335243116542, 0.47003438937163783, 0.0088997564233677, 0.018289252891151426, 0.013719204364616504, 0.009113343237039566, 0.07132802516143773, 0.03303561089784712, 0.01898960120016648, 0.1698782211473334]}, {\"categories\": [\"0\", \"2\", \"4\", \"6\", \"8\", \"10\", \"13\", \"14\", \"18\", \"22\", \"23\", \"25\", \"26\", \"27\", \"28\", \"29\", \"30\", \"31\", \"32\", \"33\", \"34\"], \"mode\": \"lines\", \"name\": \"normalized_root_mean_squared_error_min\", \"stepped\": true, \"type\": \"scatter\", \"data\": [0.00816553356907083, 0.00816553356907083, 0.00816553356907083, 0.00816553356907083, 0.00816553356907083, 0.00816553356907083, 0.00816553356907083, 0.007817746338715488, 0.007817746338715488, 0.007817746338715488, 0.007817746338715488, 0.007817746338715488, 0.007817746338715488, 0.007817746338715488, 0.007817746338715488, 0.007817746338715488, 0.007817746338715488, 0.007817746338715488, 0.007817746338715488, 0.007817746338715488, 0.007817746338715488]}], \"r2_score\": [{\"categories\": [\"0\", \"2\", \"4\", \"6\", \"8\", \"10\", \"13\", \"14\", \"18\", \"22\", \"23\", \"25\", \"26\", \"27\", \"28\", \"29\", \"30\", \"31\", \"32\", \"33\", \"34\"], \"mode\": \"markers\", \"name\": \"r2_score\", \"stepped\": false, \"type\": \"scatter\", \"data\": [0.9964631388435364, -1.0, 0.987448073099685, 0.5434313980012194, 0.905339488348568, 0.9759699245659403, 0.8969875366605259, 0.9967478926335568, 0.9959838380684065, 0.9706156735907955, 0.9722452983547732, 0.9863660464246623, -1.0, 0.9957919358969564, 0.9821049603329204, 0.9899041218109373, 0.9955950677399438, 0.7302633950565394, 0.9421149757050117, 0.980881119407198, -0.530131450324488]}, {\"categories\": [\"0\", \"2\", \"4\", \"6\", \"8\", \"10\", \"13\", \"14\", \"18\", \"22\", \"23\", \"25\", \"26\", \"27\", \"28\", \"29\", \"30\", \"31\", \"32\", \"33\", \"34\"], \"mode\": \"lines\", \"name\": \"r2_score_max\", \"stepped\": true, \"type\": \"scatter\", \"data\": [0.9964631388435364, 0.9964631388435364, 0.9964631388435364, 0.9964631388435364, 0.9964631388435364, 0.9964631388435364, 0.9964631388435364, 0.9967478926335568, 0.9967478926335568, 0.9967478926335568, 0.9967478926335568, 0.9967478926335568, 0.9967478926335568, 0.9967478926335568, 0.9967478926335568, 0.9967478926335568, 0.9967478926335568, 0.9967478926335568, 0.9967478926335568, 0.9967478926335568, 0.9967478926335568]}], \"median_absolute_error\": [{\"categories\": [\"0\", \"2\", \"4\", \"6\", \"8\", \"10\", \"13\", \"14\", \"18\", \"22\", \"23\", \"25\", \"26\", \"27\", \"28\", \"29\", \"30\", \"31\", \"32\", \"33\", \"34\"], \"mode\": \"markers\", \"name\": \"median_absolute_error\", \"stepped\": false, \"type\": \"scatter\", \"data\": [1.7043355208549305, 221.52444299062094, 2.3140461157013164, 21.99121947879966, 4.042518023147498, 2.4531639729960233, 3.4125876124254972, 1.392260233561198, 1.8301467895507812, 2.546676789776986, 4.008951167765957, 2.1551159094406294, 190.66802088419595, 1.9225413004557292, 2.1636141636129103, 1.899801587301577, 2.1007843017578125, 14.457916847084212, 3.3838666173160825, 3.950242050429002, 67.58982340494792]}, {\"categories\": [\"0\", \"2\", \"4\", \"6\", \"8\", \"10\", \"13\", \"14\", \"18\", \"22\", \"23\", \"25\", \"26\", \"27\", \"28\", \"29\", \"30\", \"31\", \"32\", \"33\", \"34\"], \"mode\": \"lines\", \"name\": \"median_absolute_error_min\", \"stepped\": true, \"type\": \"scatter\", \"data\": [1.7043355208549305, 1.7043355208549305, 1.7043355208549305, 1.7043355208549305, 1.7043355208549305, 1.7043355208549305, 1.7043355208549305, 1.392260233561198, 1.392260233561198, 1.392260233561198, 1.392260233561198, 1.392260233561198, 1.392260233561198, 1.392260233561198, 1.392260233561198, 1.392260233561198, 1.392260233561198, 1.392260233561198, 1.392260233561198, 1.392260233561198, 1.392260233561198]}], \"explained_variance\": [{\"categories\": [\"0\", \"2\", \"4\", \"6\", \"8\", \"10\", \"13\", \"14\", \"18\", \"22\", \"23\", \"25\", \"26\", \"27\", \"28\", \"29\", \"30\", \"31\", \"32\", \"33\", \"34\"], \"mode\": \"markers\", \"name\": \"explained_variance\", \"stepped\": false, \"type\": \"scatter\", \"data\": [0.9964662273559846, 0.16599947026747655, 0.9874515059897053, 0.5435965417312788, 0.9053614887426091, 0.9759711439658991, 0.8969943348533301, 0.9967495404562735, 0.9959847413235808, 0.9706226422905576, 0.9722483442177485, 0.9863704602223883, 0.36954092553542645, 0.995792863798131, 0.9821084557883627, 0.9899062201170171, 0.995597543564284, 0.7303120606878563, 0.9421368618193952, 0.9809004006746864, 0.8981200711512501]}, {\"categories\": [\"0\", \"2\", \"4\", \"6\", \"8\", \"10\", \"13\", \"14\", \"18\", \"22\", \"23\", \"25\", \"26\", \"27\", \"28\", \"29\", \"30\", \"31\", \"32\", \"33\", \"34\"], \"mode\": \"lines\", \"name\": \"explained_variance_max\", \"stepped\": true, \"type\": \"scatter\", \"data\": [0.9964662273559846, 0.9964662273559846, 0.9964662273559846, 0.9964662273559846, 0.9964662273559846, 0.9964662273559846, 0.9964662273559846, 0.9967495404562735, 0.9967495404562735, 0.9967495404562735, 0.9967495404562735, 0.9967495404562735, 0.9967495404562735, 0.9967495404562735, 0.9967495404562735, 0.9967495404562735, 0.9967495404562735, 0.9967495404562735, 0.9967495404562735, 0.9967495404562735, 0.9967495404562735]}]}, \"metricName\": null, \"primaryMetricName\": \"r2_score\", \"showLegend\": false}, \"run_metrics\": [{\"name\": \"experiment_status\", \"run_id\": \"AutoML_61370fab-2ee2-4b00-861a-b5d16fb17840\", \"categories\": [0, 1, 2, 3, 4, 5, 6, 7, 8, 9, 10, 11, 12, 13], \"series\": [{\"data\": [\"DatasetEvaluation\", \"FeaturesGeneration\", \"DatasetFeaturization\", \"DatasetFeaturizationCompleted\", \"DatasetCrossValidationSplit\", \"ModelSelection\", \"BestRunExplainModel\", \"ModelExplanationDataSetSetup\", \"PickSurrogateModel\", \"EngineeredFeatureExplanations\", \"EngineeredFeatureExplanations\", \"RawFeaturesExplanations\", \"RawFeaturesExplanations\", \"BestRunExplainModel\"]}]}, {\"name\": \"experiment_status_description\", \"run_id\": \"AutoML_61370fab-2ee2-4b00-861a-b5d16fb17840\", \"categories\": [0, 1, 2, 3, 4, 5, 6, 7, 8, 9, 10, 11, 12, 13], \"series\": [{\"data\": [\"Gathering dataset statistics.\", \"Generating features for the dataset.\", \"Beginning to fit featurizers and featurize the dataset.\", \"Completed fit featurizers and featurizing the dataset.\", \"Generating individually featurized CV splits.\", \"Beginning model selection.\", \"Best run model explanations started\", \"Model explanations data setup completed\", \"Choosing LightGBM as the surrogate model for explanations\", \"Computation of engineered features started\", \"Computation of engineered features completed\", \"Computation of raw features started\", \"Computation of raw features completed\", \"Best run model explanations completed\"]}]}, {\"name\": \"median_absolute_error\", \"run_id\": \"AutoML_61370fab-2ee2-4b00-861a-b5d16fb17840\", \"categories\": [0], \"series\": [{\"data\": [1.392260233561198]}]}, {\"name\": \"explained_variance\", \"run_id\": \"AutoML_61370fab-2ee2-4b00-861a-b5d16fb17840\", \"categories\": [0], \"series\": [{\"data\": [0.9967495404562735]}]}, {\"name\": \"normalized_root_mean_squared_log_error\", \"run_id\": \"AutoML_61370fab-2ee2-4b00-861a-b5d16fb17840\", \"categories\": [0], \"series\": [{\"data\": [0.007943561758855137]}]}, {\"name\": \"root_mean_squared_error\", \"run_id\": \"AutoML_61370fab-2ee2-4b00-861a-b5d16fb17840\", \"categories\": [0], \"series\": [{\"data\": [3.330359940292798]}]}, {\"name\": \"normalized_mean_absolute_error\", \"run_id\": \"AutoML_61370fab-2ee2-4b00-861a-b5d16fb17840\", \"categories\": [0], \"series\": [{\"data\": [0.0047741512660216924]}]}, {\"name\": \"mean_absolute_error\", \"run_id\": \"AutoML_61370fab-2ee2-4b00-861a-b5d16fb17840\", \"categories\": [0], \"series\": [{\"data\": [2.033788439325241]}]}, {\"name\": \"normalized_median_absolute_error\", \"run_id\": \"AutoML_61370fab-2ee2-4b00-861a-b5d16fb17840\", \"categories\": [0], \"series\": [{\"data\": [0.003268216510707037]}]}, {\"name\": \"mean_absolute_percentage_error\", \"run_id\": \"AutoML_61370fab-2ee2-4b00-861a-b5d16fb17840\", \"categories\": [0], \"series\": [{\"data\": [0.8215769151018835]}]}, {\"name\": \"spearman_correlation\", \"run_id\": \"AutoML_61370fab-2ee2-4b00-861a-b5d16fb17840\", \"categories\": [0], \"series\": [{\"data\": [0.9985826242217414]}]}, {\"name\": \"root_mean_squared_log_error\", \"run_id\": \"AutoML_61370fab-2ee2-4b00-861a-b5d16fb17840\", \"categories\": [0], \"series\": [{\"data\": [0.01338387275773033]}]}, {\"name\": \"normalized_root_mean_squared_error\", \"run_id\": \"AutoML_61370fab-2ee2-4b00-861a-b5d16fb17840\", \"categories\": [0], \"series\": [{\"data\": [0.007817746338715488]}]}, {\"name\": \"r2_score\", \"run_id\": \"AutoML_61370fab-2ee2-4b00-861a-b5d16fb17840\", \"categories\": [0], \"series\": [{\"data\": [0.9967478926335568]}]}], \"run_logs\": \"\\nRun is completed.\", \"graph\": {}, \"widget_settings\": {\"childWidgetDisplay\": \"popup\", \"send_telemetry\": false, \"log_level\": \"INFO\", \"sdk_version\": \"1.52.0\"}, \"loading\": false}"
          },
          "metadata": {}
        },
        {
          "output_type": "stream",
          "name": "stderr",
          "text": "WARNING:urllib3.connectionpool:Retrying (Retry(total=2, connect=2, read=3, redirect=None, status=None)) after connection broken by 'NewConnectionError('<urllib3.connection.HTTPSConnection object at 0x7f216f3ca790>: Failed to establish a new connection: [Errno 111] Connection refused')': /history/v1.0/subscriptions/7c03dd83-6b95-43b1-9f53-23dfd07e8803/resourceGroups/azp-102-temp_ai-rg/providers/Microsoft.MachineLearningServices/workspaces/AZP-102_Temp_AI_ML_POC/experiments/project3/metrics:query?mergestrategytype=None\n"
        }
      ],
      "execution_count": 32,
      "metadata": {
        "gather": {
          "logged": 1691576500487
        },
        "jupyter": {
          "outputs_hidden": false,
          "source_hidden": false
        },
        "nteract": {
          "transient": {
            "deleting": false
          }
        }
      }
    },
    {
      "cell_type": "markdown",
      "source": [
        "## Best Model\n",
        "\n",
        "TODO: In the cell below, get the best model from the automl experiments and display all the properties of the model.\n",
        "\n"
      ],
      "metadata": {}
    },
    {
      "cell_type": "code",
      "source": [
        "# Get the best model\n",
        "#best_run, fitted_model = automl_run.get_output()\n",
        "best_run, fitted_model = automl_run.get_output()\n",
        "\n",
        "# Print the details of the best model\n",
        "print(\"Best run details:\", best_run)\n",
        "print(\"Best model:\", fitted_model)"
      ],
      "outputs": [
        {
          "output_type": "stream",
          "name": "stderr",
          "text": "WARNING:root:Received unrecognized parameter additional_metrics\nWARNING:root:Received unrecognized parameter additional_metrics\nWARNING:root:Received unrecognized parameter additional_metrics\n"
        },
        {
          "output_type": "stream",
          "name": "stdout",
          "text": "[08:57:33] WARNING: ../src/learner.cc:1203: \n  If you are loading a serialized model (like pickle in Python, RDS in R) generated by\n  older XGBoost, please export the model by calling `Booster.save_model` from that version\n  first, then load it back in current version. See:\n\n    https://xgboost.readthedocs.io/en/latest/tutorials/saving_model.html\n\n  for more details about differences between saving model and serializing.\n\n[08:57:33] WARNING: ../src/learner.cc:888: Found JSON model saved before XGBoost 1.6, please save the model using current version again. The support for old JSON model will be discontinued in XGBoost 2.3.\n[08:57:33] WARNING: ../src/learner.cc:553: \n  If you are loading a serialized model (like pickle in Python, RDS in R) generated by\n  older XGBoost, please export the model by calling `Booster.save_model` from that version\n  first, then load it back in current version. See:\n\n    https://xgboost.readthedocs.io/en/latest/tutorials/saving_model.html\n\n  for more details about differences between saving model and serializing.\n\nBest run details: Run(Experiment: project3,\nId: AutoML_61370fab-2ee2-4b00-861a-b5d16fb17840_14,\nType: None,\nStatus: Completed)\nBest model: RegressionPipeline(pipeline=Pipeline(memory=None,\n                                     steps=[('datatransformer',\n                                             DataTransformer(enable_dnn=False, enable_feature_sweeping=True, feature_sweeping_config={}, feature_sweeping_timeout=86400, featurization_config=None, force_text_dnn=False, is_cross_validation=True, is_onnx_compatible=False, observer=None, task='regression', working_dir='/mnt/batch/ta...\n                                             XGBoostRegressor(booster='gbtree', colsample_bytree=1, eta=0.5, gamma=0, max_depth=9, max_leaves=0, n_estimators=100, n_jobs=1, objective='reg:linear', problem_info=ProblemInfo(gpu_training_param_dict={'processing_unit_type': 'cpu'}), random_state=0, reg_alpha=0, reg_lambda=2.3958333333333335, subsample=0.9, tree_method='auto'))],\n                                     verbose=False),\n                   stddev=[3.3381562977379082])\n"
        }
      ],
      "execution_count": 47,
      "metadata": {
        "gather": {
          "logged": 1691657853309
        },
        "jupyter": {
          "outputs_hidden": false,
          "source_hidden": false
        },
        "nteract": {
          "transient": {
            "deleting": false
          }
        }
      }
    },
    {
      "cell_type": "code",
      "source": [
        "ws"
      ],
      "outputs": [
        {
          "output_type": "execute_result",
          "execution_count": 52,
          "data": {
            "text/plain": "Workspace.create(name='AZP-102_Temp_AI_ML_POC', subscription_id='7c03dd83-6b95-43b1-9f53-23dfd07e8803', resource_group='azp-102-temp_ai-rg')"
          },
          "metadata": {}
        }
      ],
      "execution_count": 52,
      "metadata": {
        "jupyter": {
          "source_hidden": false,
          "outputs_hidden": false
        },
        "nteract": {
          "transient": {
            "deleting": false
          }
        },
        "gather": {
          "logged": 1691665183379
        }
      }
    },
    {
      "cell_type": "code",
      "source": [
        "from azureml.core import Workspace, Model\n",
        "# Replace 'your_model_id' with the actual model ID\n",
        "model_id = 'AutoML_61370fab-2ee2-4b00-861a-b5d16fb17840_14'\n",
        "\n",
        "# Get the model object\n",
        "model = Model(ws, model_id)\n",
        "\n",
        "model.download(target_dir='./automl_best_model', exist_ok=True)\n",
        "\n",
        "print(\"Model downloaded successfully\")"
      ],
      "outputs": [
        {
          "output_type": "error",
          "ename": "WebserviceException",
          "evalue": "WebserviceException:\n\tMessage: ModelNotFound: Model with name AutoML_61370fab-2ee2-4b00-861a-b5d16fb17840_14 not found in provided workspace\n\tInnerException None\n\tErrorResponse \n{\n    \"error\": {\n        \"message\": \"ModelNotFound: Model with name AutoML_61370fab-2ee2-4b00-861a-b5d16fb17840_14 not found in provided workspace\"\n    }\n}",
          "traceback": [
            "\u001b[0;31m---------------------------------------------------------------------------\u001b[0m",
            "\u001b[0;31mWebserviceException\u001b[0m                       Traceback (most recent call last)",
            "Cell \u001b[0;32mIn[51], line 6\u001b[0m\n\u001b[1;32m      3\u001b[0m model_id \u001b[38;5;241m=\u001b[39m \u001b[38;5;124m'\u001b[39m\u001b[38;5;124mAutoML_61370fab-2ee2-4b00-861a-b5d16fb17840_14\u001b[39m\u001b[38;5;124m'\u001b[39m\n\u001b[1;32m      5\u001b[0m \u001b[38;5;66;03m# Get the model object\u001b[39;00m\n\u001b[0;32m----> 6\u001b[0m model \u001b[38;5;241m=\u001b[39m \u001b[43mModel\u001b[49m\u001b[43m(\u001b[49m\u001b[43mws\u001b[49m\u001b[43m,\u001b[49m\u001b[43m \u001b[49m\u001b[43mmodel_id\u001b[49m\u001b[43m)\u001b[49m\n\u001b[1;32m      8\u001b[0m model\u001b[38;5;241m.\u001b[39mdownload(target_dir\u001b[38;5;241m=\u001b[39m\u001b[38;5;124m'\u001b[39m\u001b[38;5;124m./automl_best_model\u001b[39m\u001b[38;5;124m'\u001b[39m, exist_ok\u001b[38;5;241m=\u001b[39m\u001b[38;5;28;01mTrue\u001b[39;00m)\n\u001b[1;32m     10\u001b[0m \u001b[38;5;28mprint\u001b[39m(\u001b[38;5;124m\"\u001b[39m\u001b[38;5;124mModel downloaded successfully\u001b[39m\u001b[38;5;124m\"\u001b[39m)\n",
            "File \u001b[0;32m/anaconda/envs/jupyter_env/lib/python3.8/site-packages/azureml/core/model.py:329\u001b[0m, in \u001b[0;36mModel.__init__\u001b[0;34m(self, workspace, name, id, tags, properties, version, run_id, model_framework, expand, **kwargs)\u001b[0m\n\u001b[1;32m    324\u001b[0m \u001b[38;5;28;01melse\u001b[39;00m:\n\u001b[1;32m    325\u001b[0m     error_message \u001b[38;5;241m=\u001b[39m populate_model_not_found_details(name\u001b[38;5;241m=\u001b[39mname, \u001b[38;5;28mid\u001b[39m\u001b[38;5;241m=\u001b[39m\u001b[38;5;28mid\u001b[39m, tags\u001b[38;5;241m=\u001b[39mtags, properties\u001b[38;5;241m=\u001b[39mproperties,\n\u001b[1;32m    326\u001b[0m                                                      version\u001b[38;5;241m=\u001b[39mversion, run_id\u001b[38;5;241m=\u001b[39mrun_id,\n\u001b[1;32m    327\u001b[0m                                                      model_framework\u001b[38;5;241m=\u001b[39mmodel_framework, \u001b[38;5;241m*\u001b[39m\u001b[38;5;241m*\u001b[39mkwargs)\n\u001b[0;32m--> 329\u001b[0m     \u001b[38;5;28;01mraise\u001b[39;00m WebserviceException(error_message)\n",
            "\u001b[0;31mWebserviceException\u001b[0m: WebserviceException:\n\tMessage: ModelNotFound: Model with name AutoML_61370fab-2ee2-4b00-861a-b5d16fb17840_14 not found in provided workspace\n\tInnerException None\n\tErrorResponse \n{\n    \"error\": {\n        \"message\": \"ModelNotFound: Model with name AutoML_61370fab-2ee2-4b00-861a-b5d16fb17840_14 not found in provided workspace\"\n    }\n}"
          ]
        }
      ],
      "execution_count": 51,
      "metadata": {
        "jupyter": {
          "source_hidden": false,
          "outputs_hidden": false
        },
        "nteract": {
          "transient": {
            "deleting": false
          }
        },
        "gather": {
          "logged": 1691665155430
        }
      }
    },
    {
      "cell_type": "code",
      "source": [
        "#TODO: Save the best model\n",
        "model_name = 'best_automl_model'\n",
        "fitted_model.save(model_name)\n",
        "print(\"Saved model: {}\".format(model_name))"
      ],
      "outputs": [
        {
          "output_type": "error",
          "ename": "AttributeError",
          "evalue": "'RegressionPipeline' object has no attribute 'save'",
          "traceback": [
            "\u001b[0;31m---------------------------------------------------------------------------\u001b[0m",
            "\u001b[0;31mAttributeError\u001b[0m                            Traceback (most recent call last)",
            "Cell \u001b[0;32mIn[38], line 3\u001b[0m\n\u001b[1;32m      1\u001b[0m \u001b[38;5;66;03m#TODO: Save the best model\u001b[39;00m\n\u001b[1;32m      2\u001b[0m model_name \u001b[38;5;241m=\u001b[39m \u001b[38;5;124m'\u001b[39m\u001b[38;5;124mbest_automl_model\u001b[39m\u001b[38;5;124m'\u001b[39m\n\u001b[0;32m----> 3\u001b[0m \u001b[43mfitted_model\u001b[49m\u001b[38;5;241;43m.\u001b[39;49m\u001b[43msave\u001b[49m(model_name)\n\u001b[1;32m      4\u001b[0m \u001b[38;5;28mprint\u001b[39m(\u001b[38;5;124m\"\u001b[39m\u001b[38;5;124mSaved model: \u001b[39m\u001b[38;5;132;01m{}\u001b[39;00m\u001b[38;5;124m\"\u001b[39m\u001b[38;5;241m.\u001b[39mformat(model_name))\n",
            "\u001b[0;31mAttributeError\u001b[0m: 'RegressionPipeline' object has no attribute 'save'"
          ]
        }
      ],
      "execution_count": 38,
      "metadata": {
        "gather": {
          "logged": 1691656409328
        },
        "jupyter": {
          "outputs_hidden": false,
          "source_hidden": false
        },
        "nteract": {
          "transient": {
            "deleting": false
          }
        }
      }
    },
    {
      "cell_type": "markdown",
      "source": [
        "## Model Deployment\n",
        "\n",
        "Remember you have to deploy only one of the two models you trained but you still need to register both the models. Perform the steps in the rest of this notebook only if you wish to deploy this model.\n",
        "\n",
        "TODO: In the cell below, register the model, create an inference config and deploy the model as a web service."
      ],
      "metadata": {}
    },
    {
      "cell_type": "code",
      "source": [],
      "outputs": [],
      "execution_count": null,
      "metadata": {
        "gather": {
          "logged": 1598431435189
        },
        "jupyter": {
          "outputs_hidden": false,
          "source_hidden": false
        },
        "nteract": {
          "transient": {
            "deleting": false
          }
        }
      }
    },
    {
      "cell_type": "markdown",
      "source": [
        "TODO: In the cell below, send a request to the web service you deployed to test it."
      ],
      "metadata": {
        "collapsed": true,
        "gather": {
          "logged": 1598431657736
        },
        "jupyter": {
          "outputs_hidden": false,
          "source_hidden": false
        },
        "nteract": {
          "transient": {
            "deleting": false
          }
        }
      }
    },
    {
      "cell_type": "code",
      "source": [],
      "outputs": [],
      "execution_count": null,
      "metadata": {
        "gather": {
          "logged": 1598432707604
        },
        "jupyter": {
          "outputs_hidden": false,
          "source_hidden": false
        },
        "nteract": {
          "transient": {
            "deleting": false
          }
        }
      }
    },
    {
      "cell_type": "markdown",
      "source": [
        "TODO: In the cell below, print the logs of the web service and delete the service"
      ],
      "metadata": {
        "collapsed": true,
        "gather": {
          "logged": 1598432765711
        },
        "jupyter": {
          "outputs_hidden": false,
          "source_hidden": false
        },
        "nteract": {
          "transient": {
            "deleting": false
          }
        }
      }
    },
    {
      "cell_type": "code",
      "source": [],
      "outputs": [],
      "execution_count": null,
      "metadata": {
        "jupyter": {
          "outputs_hidden": false,
          "source_hidden": false
        },
        "nteract": {
          "transient": {
            "deleting": false
          }
        }
      }
    },
    {
      "cell_type": "markdown",
      "source": [
        "**Submission Checklist**\n",
        "- I have registered the model.\n",
        "- I have deployed the model with the best accuracy as a webservice.\n",
        "- I have tested the webservice by sending a request to the model endpoint.\n",
        "- I have deleted the webservice and shutdown all the computes that I have used.\n",
        "- I have taken a screenshot showing the model endpoint as active.\n",
        "- The project includes a file containing the environment details.\n"
      ],
      "metadata": {}
    },
    {
      "cell_type": "markdown",
      "source": [],
      "metadata": {}
    }
  ],
  "metadata": {
    "kernel_info": {
      "name": "python3"
    },
    "kernelspec": {
      "name": "python3",
      "language": "python",
      "display_name": "Python 3 (ipykernel)"
    },
    "language_info": {
      "name": "python",
      "version": "3.8.5",
      "mimetype": "text/x-python",
      "codemirror_mode": {
        "name": "ipython",
        "version": 3
      },
      "pygments_lexer": "ipython3",
      "nbconvert_exporter": "python",
      "file_extension": ".py"
    },
    "nteract": {
      "version": "nteract-front-end@1.0.0"
    },
    "microsoft": {
      "host": {
        "AzureML": {
          "notebookHasBeenCompleted": true
        }
      },
      "ms_spell_check": {
        "ms_spell_check_language": "en"
      }
    }
  },
  "nbformat": 4,
  "nbformat_minor": 2
}